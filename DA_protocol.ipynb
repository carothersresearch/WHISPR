{
 "cells": [
  {
   "cell_type": "code",
   "execution_count": 1,
   "metadata": {},
   "outputs": [],
   "source": [
    "from whispr import *"
   ]
  },
  {
   "cell_type": "code",
   "execution_count": 12,
   "metadata": {},
   "outputs": [
    {
     "name": "stdout",
     "output_type": "stream",
     "text": [
      "Volumes used from each well for this protocol:\n",
      "{'C5': 8.1, 'C15': 1.125, 'C17': 0.5, 'D5': 0.55, 'D6': 0.6, 'D7': 0.55, 'D8': 0.55, 'D9': 0.525}\n"
     ]
    }
   ],
   "source": [
    "\"\"\"\n",
    "For user to change according to run\n",
    "\"\"\"\n",
    "\n",
    "#CSV file with source plate info. Columns are label, well, concentration, volume\n",
    "source_plate = 'source_plates/211209_ECHO_source_plate.xlsx'\n",
    "source_plate_df = pd.read_excel(source_plate, index_col = 0)\n",
    "source_plate_df = source_plate_df[~source_plate_df['Well'].isna()]\n",
    "\n",
    "filename = '211209_pDA30x_titrations_amend.csv'\n",
    "# CSV file with output plate layout: columns labeled 1-12 and rows labeled A-H for 96 well plate\n",
    "output_layout = 'plate_layouts/'+filename \n",
    "output_plate = pd.read_csv(output_layout, index_col = 0, dtype = str)\n",
    "\n",
    "#CSV file with each reaction as rows and the volume of each input (columns) added to reach final reaction volume\n",
    "mixing_table = 'mixing_tables/'+filename \n",
    "mixing_table_df = pd.read_csv(mixing_table, index_col = 0, dtype = str).fillna(0)\n",
    "\n",
    "source_plate_type = '384PP_AQ_BP' \n",
    "\n",
    "checkInputs(source_plate_df, mixing_table_df,source_plate_type)\n",
    "\n",
    "vol_table_df = generateVolumeTable(mixing_table_df, source_plate_df)\n",
    "\n",
    "#specify rxn_vol (default = 2.5) and total_vol (default = 10) if you'd like to change the volume of each individual replicate or the total reaction volume\n",
    "output_df = writeProtocol(source_plate_type, vol_table_df, source_plate_df, output_plate,source_plate_df)\n",
    "output_df.to_csv('protocols/'+filename,index = False)"
   ]
  },
  {
   "cell_type": "code",
   "execution_count": 11,
   "metadata": {},
   "outputs": [
    {
     "data": {
      "text/plain": [
       "Label                    309_4\n",
       "Water                    1.625\n",
       "pBT009.J1.117.J306         NaN\n",
       "pBT009.J3.117.RFP          NaN\n",
       "p70a_S28                   NaN\n",
       "pWS006                     NaN\n",
       "pWS021                     NaN\n",
       "pWS022                     NaN\n",
       "pWS023                     NaN\n",
       "pWS024                     NaN\n",
       "pBT009.TJ1.119.RFP         NaN\n",
       "pDA010.188               0.225\n",
       "pDA010.188_100x            NaN\n",
       "pRC029                     0.1\n",
       "p70a_MCP-SoxS              NaN\n",
       "p70a_MCP-SoxS_100x         NaN\n",
       "p70a_MCP-SoxS_1000x        NaN\n",
       "TJ1_RFP                    0.0\n",
       "TJ1_RFP_100x               NaN\n",
       "TJ1_RFP_1000x              NaN\n",
       "pDA010.188_BAD             NaN\n",
       "pRC029_BAD                 NaN\n",
       "pRC014_BAD                 NaN\n",
       "pRC008.206_BAD             NaN\n",
       "pRC008.206_100x_BAD        NaN\n",
       "pRC008.206_1000x_BAD       NaN\n",
       "pRC008.206_10000x_BAD      NaN\n",
       "pRC014                     NaN\n",
       "pRC008.206                 NaN\n",
       "119.DA9                    0.0\n",
       "119.DA9_100x               NaN\n",
       "pDA300                     NaN\n",
       "pDA302                     NaN\n",
       "pDA303                     0.0\n",
       "pDA304                     0.0\n",
       "pDA305                     0.0\n",
       "pDA307                     0.0\n",
       "pDA309                   0.525\n",
       "119.DA2                    0.0\n",
       "119.DA3                    0.0\n",
       "119.DA6                    0.0\n",
       "119.DA10                   NaN\n",
       "119.DA2_100x               NaN\n",
       "119.DA3_100x               NaN\n",
       "119.DA6_100x               NaN\n",
       "119.DA10_100x            0.025\n",
       "119.DA9_1000x              NaN\n",
       "119.DA2_1000x              NaN\n",
       "119.DA3_1000x              NaN\n",
       "119.DA6_1000x              NaN\n",
       "119.DA10_1000x             NaN\n",
       "Name: 23, dtype: object"
      ]
     },
     "execution_count": 11,
     "metadata": {},
     "output_type": "execute_result"
    }
   ],
   "source": [
    "vol_table_df.iloc[23]"
   ]
  },
  {
   "cell_type": "code",
   "execution_count": null,
   "metadata": {},
   "outputs": [],
   "source": []
  }
 ],
 "metadata": {
  "interpreter": {
   "hash": "3fdd5a9f8270dfda55d419d5d87c63e868cb0858cd1df92c0c83fe613cd5dbc5"
  },
  "kernelspec": {
   "display_name": "Python 3.7.6 64-bit ('txtl-sim': conda)",
   "name": "python3"
  },
  "language_info": {
   "codemirror_mode": {
    "name": "ipython",
    "version": 3
   },
   "file_extension": ".py",
   "mimetype": "text/x-python",
   "name": "python",
   "nbconvert_exporter": "python",
   "pygments_lexer": "ipython3",
   "version": "3.7.6"
  },
  "orig_nbformat": 4
 },
 "nbformat": 4,
 "nbformat_minor": 2
}
