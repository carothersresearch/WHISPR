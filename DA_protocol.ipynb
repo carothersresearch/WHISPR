{
 "cells": [
  {
   "cell_type": "code",
   "execution_count": 3,
   "metadata": {},
   "outputs": [],
   "source": [
    "from whispr import *"
   ]
  },
  {
   "cell_type": "code",
   "execution_count": 4,
   "metadata": {},
   "outputs": [
    {
     "name": "stderr",
     "output_type": "stream",
     "text": [
      "c:\\Users\\Diego Alba\\Documents\\GitHub\\WHISPR\\whispr.py:237: SettingWithCopyWarning: \n",
      "A value is trying to be set on a copy of a slice from a DataFrame\n",
      "\n",
      "See the caveats in the documentation: https://pandas.pydata.org/pandas-docs/stable/user_guide/indexing.html#returning-a-view-versus-a-copy\n",
      "  source_plate_df['Well'][component] = ','.join(source_well[1:]).replace(' ','')\n"
     ]
    },
    {
     "name": "stdout",
     "output_type": "stream",
     "text": [
      "Volumes used from each well for this protocol:\n",
      "{'C4': 5.475, 'C5': 6.35, 'A2': 5.475, 'A3': 6.35, 'A4': 6.35, 'A5': 6.1, 'A6': 6.575, 'C15': 5.625, 'C17': 2.5, 'B3': 0.05, 'D1': 0.25, 'D2': 0.25, 'D5': 2.75, 'D6': 3.0, 'D7': 2.75, 'D8': 2.75, 'D9': 2.625, 'D10': 0.3, 'D11': 0.225, 'D12': 0.3, 'D13': 0.25, 'D14': 0.3, 'D15': 0.225, 'D16': 0.3, 'D17': 0.25, 'D18': 0.025, 'D19': 0.025, 'D20': 0.025, 'D21': 0.025, 'D22': 0.025}\n"
     ]
    }
   ],
   "source": [
    "\"\"\"\n",
    "For user to change according to run\n",
    "\"\"\"\n",
    "\n",
    "#CSV file with source plate info. Columns are label, well, concentration, volume\n",
    "source_plate = 'source_plates/211209_ECHO_source_plate.xlsx'\n",
    "source_plate_df = pd.read_excel(source_plate, index_col = 0)\n",
    "source_plate_df = source_plate_df[~source_plate_df['Well'].isna()]\n",
    "\n",
    "filename = '211209_pDA30x_titrations.csv'\n",
    "# CSV file with output plate layout: columns labeled 1-12 and rows labeled A-H for 96 well plate\n",
    "output_layout = 'plate_layouts/'+filename \n",
    "output_plate = pd.read_csv(output_layout, index_col = 0, dtype = str)\n",
    "\n",
    "#CSV file with each reaction as rows and the volume of each input (columns) added to reach final reaction volume\n",
    "mixing_table = 'mixing_tables/'+filename \n",
    "mixing_table_df = pd.read_csv(mixing_table, index_col = 0, dtype = str).fillna(0)\n",
    "\n",
    "source_plate_type = '384PP_AQ_BP' \n",
    "\n",
    "checkInputs(source_plate_df, mixing_table_df,source_plate_type)\n",
    "\n",
    "vol_table_df = generateVolumeTable(mixing_table_df, source_plate_df)\n",
    "\n",
    "#specify rxn_vol (default = 2.5) and total_vol (default = 10) if you'd like to change the volume of each individual replicate or the total reaction volume\n",
    "output_df = writeProtocol(source_plate_type, vol_table_df, source_plate_df, output_plate,source_plate_df)\n",
    "output_df.to_csv('protocols/'+filename,index = False)"
   ]
  },
  {
   "cell_type": "code",
   "execution_count": 5,
   "metadata": {},
   "outputs": [
    {
     "data": {
      "text/plain": [
       "Water                    42.675\n",
       "pBT009.J1.117.J306            0\n",
       "pBT009.J3.117.RFP             0\n",
       "p70a_S28                      0\n",
       "pWS006                        0\n",
       "pWS021                        0\n",
       "pWS022                        0\n",
       "pWS023                        0\n",
       "pWS024                        0\n",
       "pBT009.TJ1.119.RFP            0\n",
       "pDA010.188                5.625\n",
       "pDA010.188_100x               0\n",
       "pRC029                      2.5\n",
       "p70a_MCP-SoxS                 0\n",
       "p70a_MCP-SoxS_100x            0\n",
       "p70a_MCP-SoxS_1000x           0\n",
       "TJ1_RFP                    0.05\n",
       "TJ1_RFP_100x                  0\n",
       "TJ1_RFP_1000x                 0\n",
       "pDA010.188_BAD                0\n",
       "pRC029_BAD                    0\n",
       "pRC014_BAD                    0\n",
       "pRC008.206_BAD                0\n",
       "pRC008.206_100x_BAD           0\n",
       "pRC008.206_1000x_BAD          0\n",
       "pRC008.206_10000x_BAD         0\n",
       "pRC014                        0\n",
       "pRC008.206                    0\n",
       "119.DA9                    0.25\n",
       "119.DA9_100x               0.25\n",
       "pDA300                        0\n",
       "pDA302                        0\n",
       "pDA303                     2.75\n",
       "pDA304                      3.0\n",
       "pDA305                     2.75\n",
       "pDA307                     2.75\n",
       "pDA309                    2.625\n",
       "119.DA2                     0.3\n",
       "119.DA3                   0.225\n",
       "119.DA6                     0.3\n",
       "119.DA10                   0.25\n",
       "119.DA2_100x                0.3\n",
       "119.DA3_100x              0.225\n",
       "119.DA6_100x                0.3\n",
       "119.DA10_100x              0.25\n",
       "119.DA9_1000x             0.025\n",
       "119.DA2_1000x             0.025\n",
       "119.DA3_1000x             0.025\n",
       "119.DA6_1000x             0.025\n",
       "119.DA10_1000x            0.025\n",
       "dtype: object"
      ]
     },
     "execution_count": 5,
     "metadata": {},
     "output_type": "execute_result"
    }
   ],
   "source": [
    "vol_table_df.sum()[1:]"
   ]
  },
  {
   "cell_type": "code",
   "execution_count": null,
   "metadata": {},
   "outputs": [],
   "source": []
  }
 ],
 "metadata": {
  "interpreter": {
   "hash": "3fdd5a9f8270dfda55d419d5d87c63e868cb0858cd1df92c0c83fe613cd5dbc5"
  },
  "kernelspec": {
   "display_name": "Python 3.7.6 64-bit ('txtl-sim': conda)",
   "name": "python3"
  },
  "language_info": {
   "codemirror_mode": {
    "name": "ipython",
    "version": 3
   },
   "file_extension": ".py",
   "mimetype": "text/x-python",
   "name": "python",
   "nbconvert_exporter": "python",
   "pygments_lexer": "ipython3",
   "version": "3.7.6"
  },
  "orig_nbformat": 4
 },
 "nbformat": 4,
 "nbformat_minor": 2
}
