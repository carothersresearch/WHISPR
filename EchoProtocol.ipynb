{
 "cells": [
  {
   "cell_type": "code",
   "execution_count": 1,
   "metadata": {},
   "outputs": [],
   "source": [
    "from whispr import *\n",
    "import pandas as pd"
   ]
  },
  {
   "cell_type": "code",
   "execution_count": 2,
   "metadata": {},
   "outputs": [],
   "source": [
    "%%capture\n",
    "\n",
    "'''\n",
    "To add:\n",
    "\n",
    "\n",
    "* update volumes on source plate at end (requires better keeping track of volume used)\n",
    "\n",
    "* better commenting, use of functions / improving of readability\n",
    "\n",
    "'''\n",
    "\n"
   ]
  },
  {
   "cell_type": "code",
   "execution_count": 3,
   "metadata": {},
   "outputs": [
    {
     "name": "stdout",
     "output_type": "stream",
     "text": [
      "['C5', ' A2', 'A3', 'A4', 'A5', 'A6', 'A7', 'A8', 'A9', 'A10', 'A11', 'A12']\n"
     ]
    },
    {
     "name": "stderr",
     "output_type": "stream",
     "text": [
      "c:\\Users\\rycar\\Documents\\GitHub\\WHISPR\\whispr.py:244: SettingWithCopyWarning: \n",
      "A value is trying to be set on a copy of a slice from a DataFrame\n",
      "\n",
      "See the caveats in the documentation: https://pandas.pydata.org/pandas-docs/stable/user_guide/indexing.html#returning-a-view-versus-a-copy\n",
      "  source_plate_df['Well'][component] = ','.join(source_well[1:]).replace(' ','')\n"
     ]
    },
    {
     "name": "stdout",
     "output_type": "stream",
     "text": [
      "['A2', 'A3', 'A4', 'A5', 'A6', 'A7', 'A8', 'A9', 'A10', 'A11', 'A12']\n",
      "Volumes used from each well for this protocol:\n",
      "{'C5': 0.4, 'A2': 3.75, 'A3': 7.3, 'C14': 0.5, 'C15': 1.7, 'C17': 0.075, 'D1': 0.5, 'D8': 3.675, 'D12': 1.1, 'D23': 0.5, 'B14': 4.675, 'B15': 1.1, 'B16': 14.9, 'B17': 1.1, 'B20': 0.075, 'E1': 0.8, 'E2': 0.15, 'F3': 0.2}\n"
     ]
    }
   ],
   "source": [
    "\"\"\"\n",
    "For user to change according to run\n",
    "\"\"\"\n",
    "\n",
    "\n",
    "file_name = \"C:/Users/rycar/Documents/GitHub/WHISPR/source_plates/220105_exCRISPRa.xlsx\"\n",
    "#CSV file with source plate info. Columns are label, well, concentration, volume\n",
    "source_plate_df = pd.read_excel(file_name, sheet_name = 'ECHO_source_plate', index_col = 0)\n",
    "\n",
    "# CSV file with output plate layout: columns labeled 1-12 and rows labeled A-H for 96 well plate\n",
    "output_plate = pd.read_excel(file_name, sheet_name = \"plate_layout\", index_col = 0, dtype = str)\n",
    "\n",
    "#CSV file with each reaction as rows and the volume of each input (columns) added to reach final reaction volume\n",
    "mixing_table_df = pd.read_excel(file_name, sheet_name = \"mixing_table\", index_col = 0, dtype = str).fillna(0)\n",
    "\n",
    "source_plate_type = '384PP_AQ_BP' \n",
    "\n",
    "checkInputs(source_plate_df, mixing_table_df,source_plate_type)\n",
    "\n",
    "#specify rxn_vol (default = 2.5) and total_vol (default = 10) if you'd like to change the volume of each individual replicate or the total reaction volume\n",
    "vol_table_df = generateVolumeTable(mixing_table_df, source_plate_df)\n",
    "\n",
    "output_df = writeProtocol(source_plate_type, vol_table_df, source_plate_df, output_plate,source_plate_df)\n",
    "filename = '220102_exCRISPRa.csv'\n",
    "output_df.to_csv('protocols/'+filename,index = False)"
   ]
  },
  {
   "cell_type": "code",
   "execution_count": 15,
   "metadata": {},
   "outputs": [],
   "source": [
    "mixing_table_df.columns\n",
    "present = [m in source_plate_df.index for m in mixing_table_df.columns]"
   ]
  },
  {
   "cell_type": "code",
   "execution_count": 21,
   "metadata": {},
   "outputs": [
    {
     "data": {
      "text/plain": [
       "Index(['pRC025', 'pRC027', 'pRC042', 'pRC043', 'pRC044', 'pRC045', 'pRC029',\n",
       "       'pDA010.BL117-mCherry', 'pDA010.EL222', 'pDA010.188', 'pRC008.215',\n",
       "       'pBT009.J1.119.Da9', ' pDA313', 'pDA307', 'pBT009.J1.119.DA6', 'ABA',\n",
       "       'GA'],\n",
       "      dtype='object')"
      ]
     },
     "execution_count": 21,
     "metadata": {},
     "output_type": "execute_result"
    }
   ],
   "source": [
    "mixing_table_df.columns"
   ]
  },
  {
   "cell_type": "code",
   "execution_count": 26,
   "metadata": {},
   "outputs": [],
   "source": [
    "    vol = []\n",
    "    for component in list(source_plate_df['Volume']):\n",
    "        if type(component) == str:\n",
    "            c = component.split(',')\n",
    "            for i in c:\n",
    "                vol.append(float(i))\n",
    "        else:\n",
    "            vol.append(component)"
   ]
  },
  {
   "cell_type": "code",
   "execution_count": 28,
   "metadata": {},
   "outputs": [],
   "source": [
    "vol_min = 20\n",
    "if any([v < vol_min for v in vol]):\n",
    "    print('yes')"
   ]
  },
  {
   "cell_type": "code",
   "execution_count": null,
   "metadata": {},
   "outputs": [],
   "source": []
  }
 ],
 "metadata": {
  "interpreter": {
   "hash": "3e94562846622edf0cdf01e5da890585ede3da54b1c07682c7a3403648bea302"
  },
  "kernelspec": {
   "display_name": "Python 3.7.6 64-bit ('base': conda)",
   "name": "python3"
  },
  "language_info": {
   "codemirror_mode": {
    "name": "ipython",
    "version": 3
   },
   "file_extension": ".py",
   "mimetype": "text/x-python",
   "name": "python",
   "nbconvert_exporter": "python",
   "pygments_lexer": "ipython3",
   "version": "3.7.6"
  }
 },
 "nbformat": 4,
 "nbformat_minor": 4
}
