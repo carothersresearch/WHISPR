{
 "cells": [
  {
   "cell_type": "code",
   "execution_count": 1,
   "metadata": {},
   "outputs": [],
   "source": [
    "from whispr import *\n",
    "import pandas as pd"
   ]
  },
  {
   "cell_type": "code",
   "execution_count": 2,
   "metadata": {},
   "outputs": [],
   "source": [
    "%%capture\n",
    "\n",
    "'''\n",
    "To add:\n",
    "\n",
    "\n",
    "* update volumes on source plate at end (requires better keeping track of volume used)\n",
    "\n",
    "* better commenting, use of functions / improving of readability\n",
    "\n",
    "'''\n",
    "\n"
   ]
  },
  {
   "cell_type": "code",
   "execution_count": 3,
   "metadata": {},
   "outputs": [
    {
     "name": "stdout",
     "output_type": "stream",
     "text": [
      "Volumes used from each well for this protocol:\n",
      "{'C5': 8.15, 'A2': 4.525, 'C15': 1.05, 'C17': 0.45, 'D8': 1.65, 'D12': 0.7, 'B13': 0.525, 'B14': 1.125, 'B15': 0.3, 'B16': 2.475, 'B17': 1.125, 'B20': 0.075, 'B21': 0.1, 'E1': 0.2, 'E2': 0.05}\n"
     ]
    },
    {
     "name": "stderr",
     "output_type": "stream",
     "text": [
      "c:\\Users\\rycar\\Documents\\GitHub\\WHISPR\\whispr.py:240: SettingWithCopyWarning: \n",
      "A value is trying to be set on a copy of a slice from a DataFrame\n",
      "\n",
      "See the caveats in the documentation: https://pandas.pydata.org/pandas-docs/stable/user_guide/indexing.html#returning-a-view-versus-a-copy\n",
      "  source_plate_df['Well'][component] = ','.join(source_well[1:]).replace(' ','')\n"
     ]
    }
   ],
   "source": [
    "\"\"\"\n",
    "For user to change according to run\n",
    "\"\"\"\n",
    "\n",
    "\n",
    "file_name = \"C:/Users/rycar/Documents/GitHub/WHISPR/source_plates/211214_exCRISPRa.xlsx\"\n",
    "#CSV file with source plate info. Columns are label, well, concentration, volume\n",
    "source_plate_df = pd.read_excel(file_name, sheet_name = 'ECHO_source_plate', index_col = 0)\n",
    "\n",
    "# CSV file with output plate layout: columns labeled 1-12 and rows labeled A-H for 96 well plate\n",
    "output_plate = pd.read_excel(file_name, sheet_name = \"plate_layout\", index_col = 0, dtype = str)\n",
    "\n",
    "#CSV file with each reaction as rows and the volume of each input (columns) added to reach final reaction volume\n",
    "mixing_table_df = pd.read_excel(file_name, sheet_name = \"mixing_table\", index_col = 0, dtype = str).fillna(0)\n",
    "\n",
    "source_plate_type = '384PP_AQ_BP' \n",
    "\n",
    "checkInputs(source_plate_df, mixing_table_df,source_plate_type)\n",
    "\n",
    "#specify rxn_vol (default = 2.5) and total_vol (default = 10) if you'd like to change the volume of each individual replicate or the total reaction volume\n",
    "vol_table_df = generateVolumeTable(mixing_table_df, source_plate_df)\n",
    "\n",
    "output_df = writeProtocol(source_plate_type, vol_table_df, source_plate_df, output_plate,source_plate_df)\n",
    "filename = '211214_exCRISPR.csv'\n",
    "output_df.to_csv('protocols/'+filename,index = False)"
   ]
  },
  {
   "cell_type": "code",
   "execution_count": null,
   "metadata": {},
   "outputs": [],
   "source": []
  }
 ],
 "metadata": {
  "interpreter": {
   "hash": "3e94562846622edf0cdf01e5da890585ede3da54b1c07682c7a3403648bea302"
  },
  "kernelspec": {
   "display_name": "Python 3.7.6 64-bit ('base': conda)",
   "name": "python3"
  },
  "language_info": {
   "codemirror_mode": {
    "name": "ipython",
    "version": 3
   },
   "file_extension": ".py",
   "mimetype": "text/x-python",
   "name": "python",
   "nbconvert_exporter": "python",
   "pygments_lexer": "ipython3",
   "version": "3.7.6"
  }
 },
 "nbformat": 4,
 "nbformat_minor": 4
}
