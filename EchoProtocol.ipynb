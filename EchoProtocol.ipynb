{
 "cells": [
  {
   "cell_type": "code",
   "execution_count": 1,
   "metadata": {},
   "outputs": [],
   "source": [
    "from whispr import *"
   ]
  },
  {
   "cell_type": "code",
   "execution_count": 3,
   "metadata": {},
   "outputs": [],
   "source": [
    "%%capture\n",
    "\n",
    "'''\n",
    "To add:\n",
    "\n",
    "\n",
    "* update volumes on source plate at end (requires better keeping track of volume used)\n",
    "\n",
    "* better commenting, use of functions / improving of readability\n",
    "\n",
    "'''\n",
    "\n"
   ]
  },
  {
   "cell_type": "code",
   "execution_count": 2,
   "metadata": {},
   "outputs": [
    {
     "ename": "TypeError",
     "evalue": "float() argument must be a string or a number, not 'DataFrame'",
     "output_type": "error",
     "traceback": [
      "\u001b[1;31m---------------------------------------------------------------------------\u001b[0m",
      "\u001b[1;31mTypeError\u001b[0m                                 Traceback (most recent call last)",
      "\u001b[1;32m<ipython-input-2-4fa19af977fd>\u001b[0m in \u001b[0;36m<module>\u001b[1;34m\u001b[0m\n\u001b[0;32m     21\u001b[0m \u001b[1;33m\u001b[0m\u001b[0m\n\u001b[0;32m     22\u001b[0m \u001b[1;31m#specify rxn_vol (default = 2.5) and total_vol (default = 10) if you'd like to change the volume of each individual replicate or the total reaction volume\u001b[0m\u001b[1;33m\u001b[0m\u001b[1;33m\u001b[0m\u001b[1;33m\u001b[0m\u001b[0m\n\u001b[1;32m---> 23\u001b[1;33m \u001b[0moutput_df\u001b[0m \u001b[1;33m=\u001b[0m \u001b[0mwriteProtocol\u001b[0m\u001b[1;33m(\u001b[0m\u001b[0msource_plate_type\u001b[0m\u001b[1;33m,\u001b[0m \u001b[0mvol_table_df\u001b[0m\u001b[1;33m,\u001b[0m \u001b[0msource_plate_df\u001b[0m\u001b[1;33m,\u001b[0m \u001b[0moutput_plate\u001b[0m\u001b[1;33m,\u001b[0m\u001b[0msource_plate_df\u001b[0m\u001b[1;33m)\u001b[0m\u001b[1;33m\u001b[0m\u001b[1;33m\u001b[0m\u001b[0m\n\u001b[0m\u001b[0;32m     24\u001b[0m \u001b[0mfilename\u001b[0m \u001b[1;33m=\u001b[0m \u001b[1;34m'211102-_tit_lip3mgml.csv'\u001b[0m\u001b[1;33m\u001b[0m\u001b[1;33m\u001b[0m\u001b[0m\n\u001b[0;32m     25\u001b[0m \u001b[0moutput_df\u001b[0m\u001b[1;33m.\u001b[0m\u001b[0mto_csv\u001b[0m\u001b[1;33m(\u001b[0m\u001b[1;34m'protocols/'\u001b[0m\u001b[1;33m+\u001b[0m\u001b[0mfilename\u001b[0m\u001b[1;33m,\u001b[0m\u001b[0mindex\u001b[0m \u001b[1;33m=\u001b[0m \u001b[1;32mFalse\u001b[0m\u001b[1;33m)\u001b[0m\u001b[1;33m\u001b[0m\u001b[1;33m\u001b[0m\u001b[0m\n",
      "\u001b[1;32mc:\\Users\\rycar\\Documents\\GitHub\\WHISPR\\whispr.py\u001b[0m in \u001b[0;36mwriteProtocol\u001b[1;34m(plate_type, vol_table, source_plate_layout, output_layout, source_plate_df)\u001b[0m\n\u001b[0;32m    214\u001b[0m                     \u001b[0mvols\u001b[0m \u001b[1;33m=\u001b[0m \u001b[0mvol_table\u001b[0m\u001b[1;33m[\u001b[0m\u001b[0mvol_table\u001b[0m\u001b[1;33m[\u001b[0m\u001b[1;34m'Label'\u001b[0m\u001b[1;33m]\u001b[0m \u001b[1;33m==\u001b[0m \u001b[0mrxn\u001b[0m\u001b[1;33m]\u001b[0m\u001b[1;33m\u001b[0m\u001b[1;33m\u001b[0m\u001b[0m\n\u001b[0;32m    215\u001b[0m                     \u001b[1;32mfor\u001b[0m \u001b[0mcomponent\u001b[0m \u001b[1;32min\u001b[0m \u001b[0mvols\u001b[0m\u001b[1;33m.\u001b[0m\u001b[0mcolumns\u001b[0m\u001b[1;33m[\u001b[0m\u001b[1;36m1\u001b[0m\u001b[1;33m:\u001b[0m\u001b[1;33m]\u001b[0m\u001b[1;33m:\u001b[0m\u001b[1;33m\u001b[0m\u001b[1;33m\u001b[0m\u001b[0m\n\u001b[1;32m--> 216\u001b[1;33m                         \u001b[0mtransfer_vol\u001b[0m \u001b[1;33m=\u001b[0m \u001b[0mfloat\u001b[0m\u001b[1;33m(\u001b[0m\u001b[0mvols\u001b[0m\u001b[1;33m[\u001b[0m\u001b[0mcomponent\u001b[0m\u001b[1;33m]\u001b[0m\u001b[1;33m)\u001b[0m\u001b[1;33m\u001b[0m\u001b[1;33m\u001b[0m\u001b[0m\n\u001b[0m\u001b[0;32m    217\u001b[0m                         \u001b[1;32mif\u001b[0m \u001b[0mtransfer_vol\u001b[0m \u001b[1;33m>\u001b[0m \u001b[1;36m0\u001b[0m\u001b[1;33m:\u001b[0m\u001b[1;33m\u001b[0m\u001b[1;33m\u001b[0m\u001b[0m\n\u001b[0;32m    218\u001b[0m                         \u001b[1;31m## separate if there is > 1 well in source plate\u001b[0m\u001b[1;33m\u001b[0m\u001b[1;33m\u001b[0m\u001b[1;33m\u001b[0m\u001b[0m\n",
      "\u001b[1;31mTypeError\u001b[0m: float() argument must be a string or a number, not 'DataFrame'"
     ]
    }
   ],
   "source": [
    "\"\"\"\n",
    "For user to change according to run\n",
    "\"\"\"\n",
    "\n",
    "\n",
    "file_name = \"C:/Users/rycar/Documents/GitHub/WHISPR/inputs/211102_ECHO_source_plate_CRISPRtitration.xlsx\"\n",
    "#CSV file with source plate info. Columns are label, well, concentration, volume\n",
    "source_plate_df = pd.read_excel(file_name, sheet_name = 'ECHO_source_plate', index_col = 0)\n",
    "\n",
    "# CSV file with output plate layout: columns labeled 1-12 and rows labeled A-H for 96 well plate\n",
    "output_plate = pd.read_excel(file_name, sheet_name = \"plate_layout_test\", index_col = 0, dtype = str)\n",
    "\n",
    "#CSV file with each reaction as rows and the volume of each input (columns) added to reach final reaction volume\n",
    "mixing_table_df = pd.read_excel(file_name, sheet_name = \"mixing_table_tit_lip3mgml\", index_col = 0, dtype = str).fillna(0)\n",
    "\n",
    "source_plate_type = '384PP_AQ_BP' \n",
    "\n",
    "checkInputs(source_plate_df, mixing_table_df,source_plate_type)\n",
    "\n",
    "vol_table_df = generateVolumeTable(mixing_table_df, source_plate_df)\n",
    "\n",
    "#specify rxn_vol (default = 2.5) and total_vol (default = 10) if you'd like to change the volume of each individual replicate or the total reaction volume\n",
    "output_df = writeProtocol(source_plate_type, vol_table_df, source_plate_df, output_plate,source_plate_df)\n",
    "filename = '211102-_tit_lip3mgml.csv'\n",
    "output_df.to_csv('protocols/'+filename,index = False)"
   ]
  },
  {
   "cell_type": "code",
   "execution_count": null,
   "metadata": {},
   "outputs": [],
   "source": []
  }
 ],
 "metadata": {
  "interpreter": {
   "hash": "3e94562846622edf0cdf01e5da890585ede3da54b1c07682c7a3403648bea302"
  },
  "kernelspec": {
   "display_name": "Python 3.7.6 64-bit ('base': conda)",
   "name": "python3"
  },
  "language_info": {
   "codemirror_mode": {
    "name": "ipython",
    "version": 3
   },
   "file_extension": ".py",
   "mimetype": "text/x-python",
   "name": "python",
   "nbconvert_exporter": "python",
   "pygments_lexer": "ipython3",
   "version": "3.7.6"
  }
 },
 "nbformat": 4,
 "nbformat_minor": 4
}
