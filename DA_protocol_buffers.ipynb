{
 "cells": [
  {
   "cell_type": "code",
   "execution_count": 1,
   "metadata": {},
   "outputs": [],
   "source": [
    "from whispr import *"
   ]
  },
  {
   "cell_type": "code",
   "execution_count": 2,
   "metadata": {},
   "outputs": [
    {
     "name": "stderr",
     "output_type": "stream",
     "text": [
      "c:\\Users\\Diego Alba\\Documents\\GitHub\\WHISPR\\whispr.py:263: SettingWithCopyWarning: \n",
      "A value is trying to be set on a copy of a slice from a DataFrame\n",
      "\n",
      "See the caveats in the documentation: https://pandas.pydata.org/pandas-docs/stable/user_guide/indexing.html#returning-a-view-versus-a-copy\n",
      "  source_plate_df['Well'][component] = ','.join(source_well[1:]).replace(' ','')\n"
     ]
    },
    {
     "name": "stdout",
     "output_type": "stream",
     "text": [
      "Volumes used from each well for this protocol:\n",
      "{'B2': 49.3, 'B3': 63.05, 'B4': 57.6, 'B5': 53.5, 'B6': 51.45, 'B7': 50.55, 'B8': 50.1, 'B9': 53.95, 'B10': 55.875, 'B11': 55.875, 'B12': 55.875, 'B13': 18.625, 'A1': 21.6, 'A2': 4.5, 'A3': 33.3, 'A4': 9.0, 'A5': 46.2, 'A6': 0.9, 'A7': 3.75, 'A8': 50.0, 'A9': 25.0}\n"
     ]
    }
   ],
   "source": [
    "\"\"\"\n",
    "For user to change according to run\n",
    "\"\"\"\n",
    "\n",
    "#CSV file with source plate info. Columns are label, well, concentration, volume\n",
    "source_plate = 'source_plates/buffer_source_plate_dummy.xlsx'\n",
    "source_plate_df = pd.read_excel(source_plate, index_col = 0)\n",
    "source_plate_df = source_plate_df[~source_plate_df['Well'].isna()]\n",
    "\n",
    "filename = 'buffer_dummy.csv'\n",
    "# CSV file with output plate layout: columns labeled 1-12 and rows labeled A-H for 96 well plate\n",
    "output_layout = 'plate_layouts/'+filename \n",
    "output_plate = pd.read_csv(output_layout, index_col = 0, dtype = str)\n",
    "\n",
    "#CSV file with each reaction as rows and the volume of each input (columns) added to reach final reaction volume\n",
    "filename = 'buffer_dummy_MT.csv'\n",
    "mixing_table = 'mixing_tables/'+filename \n",
    "mixing_table_df = pd.read_csv(mixing_table, index_col = 0, dtype = str).fillna(0)\n",
    "\n",
    "source_plate_type = '384PP_AQ_BP' \n",
    "\n",
    "checkInputs(source_plate_df, mixing_table_df,source_plate_type)\n",
    "\n",
    "vol_table_df,updated_source_plate = generateVolumeTable(mixing_table_df, source_plate_df, rxn_vol = 22.5, total_vol = 25, fill_with='HEPES')\n",
    "\n",
    "#specify rxn_vol (default = 2.5) and total_vol (default = 10) if you'd like to change the volume of each individual replicate or the total reaction volume\n",
    "filename = 'buffer_dummy_EP.csv'\n",
    "output_df = writeProtocol(source_plate_type, vol_table_df, output_plate,source_plate_df)\n",
    "output_df.to_csv('protocols/'+filename,index = False)"
   ]
  },
  {
   "cell_type": "code",
   "execution_count": 8,
   "metadata": {},
   "outputs": [
    {
     "data": {
      "text/plain": [
       "'16.324999999999996,11.049999999999997,65.0,65.0,65.0,65.0,65.0,65.0,65.0,65.0,65.0,65.0,65.0,65.0'"
      ]
     },
     "execution_count": 8,
     "metadata": {},
     "output_type": "execute_result"
    }
   ],
   "source": [
    "updated_source_plate.loc['HEPES']['Volume']"
   ]
  },
  {
   "cell_type": "code",
   "execution_count": 4,
   "metadata": {},
   "outputs": [
    {
     "data": {
      "text/html": [
       "<div>\n",
       "<style scoped>\n",
       "    .dataframe tbody tr th:only-of-type {\n",
       "        vertical-align: middle;\n",
       "    }\n",
       "\n",
       "    .dataframe tbody tr th {\n",
       "        vertical-align: top;\n",
       "    }\n",
       "\n",
       "    .dataframe thead th {\n",
       "        text-align: right;\n",
       "    }\n",
       "</style>\n",
       "<table border=\"1\" class=\"dataframe\">\n",
       "  <thead>\n",
       "    <tr style=\"text-align: right;\">\n",
       "      <th></th>\n",
       "      <th>Label</th>\n",
       "      <th>Water</th>\n",
       "      <th>HEPES</th>\n",
       "      <th>Biotin</th>\n",
       "      <th>Pyruvate</th>\n",
       "      <th>ATP_1x</th>\n",
       "      <th>ATP_100x</th>\n",
       "      <th>CoA</th>\n",
       "      <th>Kan</th>\n",
       "      <th>Mg-Act</th>\n",
       "      <th>HCT</th>\n",
       "    </tr>\n",
       "  </thead>\n",
       "  <tbody>\n",
       "    <tr>\n",
       "      <th>0</th>\n",
       "      <td>test1</td>\n",
       "      <td>NaN</td>\n",
       "      <td>12.325</td>\n",
       "      <td>0.6</td>\n",
       "      <td>0.125</td>\n",
       "      <td>5.0</td>\n",
       "      <td>NaN</td>\n",
       "      <td>1.925</td>\n",
       "      <td>0.025</td>\n",
       "      <td>0.0</td>\n",
       "      <td>2.5</td>\n",
       "    </tr>\n",
       "    <tr>\n",
       "      <th>1</th>\n",
       "      <td>test2</td>\n",
       "      <td>NaN</td>\n",
       "      <td>19.2</td>\n",
       "      <td>0.6</td>\n",
       "      <td>0.125</td>\n",
       "      <td>0.5</td>\n",
       "      <td>NaN</td>\n",
       "      <td>1.925</td>\n",
       "      <td>0.025</td>\n",
       "      <td>0.125</td>\n",
       "      <td>0.0</td>\n",
       "    </tr>\n",
       "    <tr>\n",
       "      <th>2</th>\n",
       "      <td>test3</td>\n",
       "      <td>NaN</td>\n",
       "      <td>17.15</td>\n",
       "      <td>0.6</td>\n",
       "      <td>0.125</td>\n",
       "      <td>0.05</td>\n",
       "      <td>NaN</td>\n",
       "      <td>1.925</td>\n",
       "      <td>0.025</td>\n",
       "      <td>0.125</td>\n",
       "      <td>2.5</td>\n",
       "    </tr>\n",
       "    <tr>\n",
       "      <th>3</th>\n",
       "      <td>test4</td>\n",
       "      <td>NaN</td>\n",
       "      <td>16.7</td>\n",
       "      <td>0.6</td>\n",
       "      <td>0.125</td>\n",
       "      <td>NaN</td>\n",
       "      <td>0.5</td>\n",
       "      <td>1.925</td>\n",
       "      <td>0.025</td>\n",
       "      <td>0.125</td>\n",
       "      <td>2.5</td>\n",
       "    </tr>\n",
       "    <tr>\n",
       "      <th>4</th>\n",
       "      <td>test5</td>\n",
       "      <td>NaN</td>\n",
       "      <td>18.625</td>\n",
       "      <td>0.6</td>\n",
       "      <td>0.125</td>\n",
       "      <td>NaN</td>\n",
       "      <td>0.5</td>\n",
       "      <td>0.0</td>\n",
       "      <td>0.025</td>\n",
       "      <td>0.125</td>\n",
       "      <td>2.5</td>\n",
       "    </tr>\n",
       "    <tr>\n",
       "      <th>5</th>\n",
       "      <td>test6</td>\n",
       "      <td>NaN</td>\n",
       "      <td>18.625</td>\n",
       "      <td>0.6</td>\n",
       "      <td>0.125</td>\n",
       "      <td>NaN</td>\n",
       "      <td>0.5</td>\n",
       "      <td>0.0</td>\n",
       "      <td>0.025</td>\n",
       "      <td>0.125</td>\n",
       "      <td>2.5</td>\n",
       "    </tr>\n",
       "  </tbody>\n",
       "</table>\n",
       "</div>"
      ],
      "text/plain": [
       "   Label Water   HEPES Biotin Pyruvate ATP_1x ATP_100x    CoA    Kan Mg-Act  \\\n",
       "0  test1   NaN  12.325    0.6    0.125    5.0      NaN  1.925  0.025    0.0   \n",
       "1  test2   NaN    19.2    0.6    0.125    0.5      NaN  1.925  0.025  0.125   \n",
       "2  test3   NaN   17.15    0.6    0.125   0.05      NaN  1.925  0.025  0.125   \n",
       "3  test4   NaN    16.7    0.6    0.125    NaN      0.5  1.925  0.025  0.125   \n",
       "4  test5   NaN  18.625    0.6    0.125    NaN      0.5    0.0  0.025  0.125   \n",
       "5  test6   NaN  18.625    0.6    0.125    NaN      0.5    0.0  0.025  0.125   \n",
       "\n",
       "   HCT  \n",
       "0  2.5  \n",
       "1  0.0  \n",
       "2  2.5  \n",
       "3  2.5  \n",
       "4  2.5  \n",
       "5  2.5  "
      ]
     },
     "execution_count": 4,
     "metadata": {},
     "output_type": "execute_result"
    }
   ],
   "source": [
    "vol_table_df"
   ]
  },
  {
   "cell_type": "code",
   "execution_count": null,
   "metadata": {},
   "outputs": [],
   "source": []
  }
 ],
 "metadata": {
  "kernelspec": {
   "display_name": "Python 3.7.6 64-bit ('txtl-sim': conda)",
   "language": "python",
   "name": "python3"
  },
  "language_info": {
   "codemirror_mode": {
    "name": "ipython",
    "version": 3
   },
   "file_extension": ".py",
   "mimetype": "text/x-python",
   "name": "python",
   "nbconvert_exporter": "python",
   "pygments_lexer": "ipython3",
   "version": "3.7.6"
  },
  "vscode": {
   "interpreter": {
    "hash": "f543d9e5f9a66fa15e5df6a673ace45eca063fa5ea1e663287fb3ebcaa0798bc"
   }
  }
 },
 "nbformat": 4,
 "nbformat_minor": 4
}
