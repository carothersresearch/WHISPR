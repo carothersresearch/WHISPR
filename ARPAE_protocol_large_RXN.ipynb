{
 "cells": [
  {
   "cell_type": "code",
   "execution_count": 2,
   "metadata": {},
   "outputs": [],
   "source": [
    "import warnings\n",
    "warnings.simplefilter(action='ignore', category=FutureWarning) # setting ignore as a parameter and further adding category\n",
    "from whispr import *\n",
    "import os\n"
   ]
  },
  {
   "cell_type": "code",
   "execution_count": 23,
   "metadata": {},
   "outputs": [
    {
     "name": "stdout",
     "output_type": "stream",
     "text": [
      "<class 'pandas.core.series.Series'>\n",
      "<class 'pandas.core.series.Series'>\n",
      "<class 'pandas.core.series.Series'>\n",
      "<class 'pandas.core.series.Series'>\n",
      "<class 'pandas.core.series.Series'>\n",
      "<class 'pandas.core.series.Series'>\n",
      "<class 'pandas.core.series.Series'>\n",
      "<class 'pandas.core.series.Series'>\n",
      "<class 'pandas.core.series.Series'>\n",
      "<class 'pandas.core.series.Series'>\n",
      "<class 'pandas.core.series.Series'>\n",
      "<class 'pandas.core.series.Series'>\n",
      "<class 'pandas.core.series.Series'>\n",
      "<class 'pandas.core.series.Series'>\n",
      "<class 'pandas.core.series.Series'>\n",
      "<class 'pandas.core.series.Series'>\n",
      "<class 'pandas.core.series.Series'>\n",
      "<class 'pandas.core.series.Series'>\n",
      "Volumes used from each well for this protocol:\n",
      "{'1_A1': 5.8, '1_P1': 0.125, '1_P2': 0.2, '1_P3': 0.375, '1_P5': 0.1, '1_P9': 0.075, '1_O17': 0.15, '1_K1': 0.25, '1_K4': 0.4, '1_K5': 0.525, '1_K6': 0.65, '1_K11': 0.225, '1_K13': 0.125}\n"
     ]
    }
   ],
   "source": [
    "# gene expression. 2.5ul rxns, 75% txtl\n",
    "rxn_vol = 3\n",
    "source_plate_type = '384PP_AQ_BP' \n",
    "\n",
    "os.getcwd()\n",
    "folder = os.getcwd() + '/Experiments/230619/'\n",
    "sp_plasmids_file = folder + 'plasmids_sp_230619.xlsx'\n",
    "sp_plasmids = pd.read_excel(sp_plasmids_file, index_col = 0, engine='openpyxl')\n",
    "sp_plasmids = sp_plasmids[~sp_plasmids['Well'].isna()]\n",
    "\n",
    "layout_genex_file = folder + 'genex_pl_384.csv'\n",
    "layout_genex = pd.read_csv(layout_genex_file, index_col = 0, dtype = str)\n",
    "\n",
    "mt_genex_file = folder + 'genex_mt_230619.xlsx'\n",
    "#mt_genex = pd.read_csv(mt_genex_file, index_col = 0, dtype = str).fillna(0)\n",
    "mt_genex = pd.read_excel(mt_genex_file, index_col = 0, dtype = str, engine = 'openpyxl').fillna(0)\n",
    "\n",
    "checkInputs(sp_plasmids, mt_genex,source_plate_type)\n",
    "\n",
    "vol_table_df = generateVolumeTable(mt_genex, sp_plasmids, rxn_vol = 0.25*rxn_vol, total_vol = rxn_vol, fill_with='water', multiRpW = False)\n",
    "\n",
    "#specify rxn_vol (default = 2.5) and total_vol (default = 10) if you'd like to change the volume of each individual replicate or the total reaction volume\n",
    "protocol_genex_df = writeProtocol(source_plate_type, vol_table_df, layout_genex,sp_plasmids, update_source_vol=folder+'plasmids_sp_updated.xlsx')\n",
    "protocol_genex_df = protocol_genex_df[0]\n"
   ]
  },
  {
   "cell_type": "code",
   "execution_count": 24,
   "metadata": {},
   "outputs": [
    {
     "name": "stdout",
     "output_type": "stream",
     "text": [
      "neg\n",
      "neg\n",
      "neg\n",
      "neg\n",
      "glyA\n",
      "sds\n",
      "pyc\n",
      "fdh_sn\n",
      "fdh_cm\n",
      "mod1\n",
      "pyc_ctrl\n",
      "pyc_aa\n",
      "TXTL needed: 27.0\n"
     ]
    }
   ],
   "source": [
    "# everything gets txtl\n",
    "\n",
    "# get destination wells\n",
    "for layout_id, layout in enumerate([layout_genex]):    \n",
    "    # reads plate layout and assigns wells to each reaction (rxn_loc; dict)\n",
    "    labels = pd.unique(np.concatenate(layout.values))\n",
    "    rxn_loc = {}\n",
    "    for l in labels:\n",
    "        if type(l) is str:\n",
    "            index = layout[layout.isin([l])].stack().index\n",
    "            rxn_loc[l] = []\n",
    "            for i in index:\n",
    "                rxn_loc[l].append(str(i[0]) + str(i[1]))\n",
    "\n",
    "\n",
    "txtl_well = 'E20'\n",
    "for label, dwell in rxn_loc.items():\n",
    "    for d in dwell:\n",
    "        print(label)\n",
    "        txtl_vol = vol_table_df[vol_table_df['Label'] == label].iloc[0,1:].sum()/0.25*0.75*1000 # add txtl to make 75%\n",
    "        row = {'Source Plate Name':'Source[1]', 'Source Plate Type': source_plate_type, 'Source Well': txtl_well,\n",
    "                                    'Destination Plate Name':'Destination[1]', 'Destination Well': d, 'Transfer Volume': txtl_vol}\n",
    "        protocol_genex_df = protocol_genex_df.append(row, ignore_index = True)\n",
    "\n",
    "protocol_genex_df.to_csv(folder+'protocol_genex.csv',index = False)\n",
    "print('TXTL needed: '+str(protocol_genex_df[protocol_genex_df['Source Well'] == txtl_well]['Transfer Volume'].sum()/1000))\n",
    "# carry out gene expression reaction"
   ]
  },
  {
   "cell_type": "code",
   "execution_count": 5,
   "metadata": {},
   "outputs": [],
   "source": [
    "# dilution. everything gets Tris, for 20x -> 57uL\n",
    "\n",
    "##### doing it by hand if not too many reactions #####\n",
    "\n",
    "# protocol_dilution_df = pd.DataFrame(columns=protocol_genex_df.columns)\n",
    "# source_plate_type = '6RES_AQ_B' \n",
    "# tris_well = 'A1'\n",
    "# tris_vol = 57*1000\n",
    "\n",
    "# for dwell in protocol_genex_df['Destination Well'].unique():\n",
    "#     row = {'Source Plate Name':'Source[1]', 'Source Plate Type': source_plate_type, 'Source Well': tris_well,\n",
    "#                                 'Destination Plate Name':'Destination[1]', 'Destination Well': dwell, 'Transfer Volume': tris_vol}\n",
    "#     protocol_dilution_df = protocol_dilution_df.append(row, ignore_index = True)\n",
    "\n",
    "# protocol_dilution_df.to_csv('protocols/221024_arpae_dilutions.csv',index = False)"
   ]
  },
  {
   "cell_type": "code",
   "execution_count": 6,
   "metadata": {},
   "outputs": [],
   "source": [
    "# from source plate with buffer, mix into 96\n",
    "\n",
    "# from source plate with genex, mix the diluted txtl"
   ]
  },
  {
   "cell_type": "code",
   "execution_count": 5,
   "metadata": {},
   "outputs": [],
   "source": [
    "folder = os.getcwd() + '/Experiments/230503/'\n"
   ]
  },
  {
   "cell_type": "code",
   "execution_count": 16,
   "metadata": {},
   "outputs": [
    {
     "name": "stdout",
     "output_type": "stream",
     "text": [
      "Volumes used from each well for this protocol:\n",
      "{'1_A1': 14.0, '1_B1': 26.0, '1_C1': 5.5, '1_D2': 12.0, '1_E1': 40.0, '1_E2': 30.0, '1_F1': 0.9, '1_G1': 12.9, '1_H1': 17.0, '1_H2': 11.0, '1_I2': 27.0, '1_J1': 6.5, '1_J2': 15.5, '1_K1': 7.0, '1_K2': 5.0, '1_N1': 8.0, '1_O1': 8.0, '1_B3': 4.0, '1_O3': 24.0, '1_M3': 20.0, '1_J4': 1.5, '1_M4': 1.5, '2_A2': 662.7, '3_B13': 40.0, '3_B15': 10.0, '3_B16': 10.0, '3_B17': 10.0, '3_B18': 10.0, '3_B19': 10.0, '3_B20': 10.0, '3_B21': 10.0, '3_B22': 10.0}\n"
     ]
    }
   ],
   "source": [
    "# biosynthesis. 25ul rxns, 2.5ul of diluted txtl\n",
    "\n",
    "# buffer source plate\n",
    "sp_buffers_file = folder + 'buffers_sp_230619.xlsx'\n",
    "sp_buffers= pd.read_excel(sp_buffers_file, index_col = 0, engine = 'openpyxl')\n",
    "sp_buffers = sp_buffers[~sp_buffers['Well'].isna()]\n",
    "\n",
    "# HEPES reservoir (actually same plate as Tris)\n",
    "sp_hepes = pd.DataFrame(columns=sp_buffers.columns)\n",
    "sp_hepes = sp_hepes.append({'Label':'HEPES', 'Well':'A2,A3', 'Concentration':'', 'Volume':'2000,2000'}, ignore_index = True)\n",
    "\n",
    "# gene expression source plate (diluted w/ Tris)\n",
    "#sp_genex = sp_from_layout(layout_genex, 60)\n",
    "layout_genex_384_file = folder + 'genex_pl_384.csv'\n",
    "layout_genex_384 = pd.read_csv(layout_genex_384_file, index_col = 0, dtype = str)\n",
    "sp_genex = sp_from_layout(layout_genex_384, 60)\n",
    "\n",
    "\n",
    "# group source plates\n",
    "sp_types = ['384PP_AQ_BP','6RES_AQ_BP2','384PP_AQ_BP'] # triple check this\n",
    "sps = [sp_buffers,sp_hepes,sp_genex]\n",
    "\n",
    "# get mixing table\n",
    "mt_biosyn_file = folder + 'buffers_mt_230619.xlsx'\n",
    "mt_biosyn = pd.read_excel(mt_biosyn_file, index_col = 0, dtype = str, engine = 'openpyxl').fillna(0)\n",
    "mt_biosyn = mt_biosyn[~mt_biosyn.index.isna()]\n",
    "\n",
    "# check formats\n",
    "checkInputs(sps,mt_biosyn,sp_types)\n",
    "\n",
    "# layouts for destination plate(s)\n",
    "layout_biosyn1_file = folder + 'biosyn_pl.csv' \n",
    "layout_biosyn1 = pd.read_csv(layout_biosyn1_file, index_col = 0, dtype = str)\n",
    "layout_biosyn1 = layout_biosyn1[~layout_biosyn1.index.isna()]\n",
    "\n",
    "# filename = '221018_arpae_biosyn_neg.csv'\n",
    "# layout_biosyn2_file = 'plate_layouts/'+filename \n",
    "# layout_biosyn2 = pd.read_csv(layout_biosyn2_file, index_col = 0, dtype = str)\n",
    "# layouts = [layout_biosyn1,layout_biosyn2]\n",
    "\n",
    "vol_table_df = generateVolumeTable(mt_biosyn, sps, rxn_vol = 22.5, total_vol = 25, fill_with='HEPES')\n",
    "\n",
    "protocol_biosyn_dfs = writeProtocol(sp_types, vol_table_df, layout_biosyn1,sps, update_source_vol= folder +'combined_sp_updated.xlsx')\n",
    "\n",
    "#protocol_biosyn_df.to_csv('protocols/221018_arpae_biosyn.csv',index = False)"
   ]
  },
  {
   "cell_type": "code",
   "execution_count": 20,
   "metadata": {},
   "outputs": [],
   "source": [
    "protocol_biosyn_dfs[0].to_csv(folder+'protocol_biosyn_kinetics_384.csv',index = False)\n",
    "protocol_biosyn_dfs[1].to_csv(folder+'protocol_biosyn_kinetics_6RES.csv',index = False)"
   ]
  },
  {
   "cell_type": "code",
   "execution_count": 19,
   "metadata": {},
   "outputs": [
    {
     "name": "stdout",
     "output_type": "stream",
     "text": [
      "Volumes used from each well for this protocol:\n",
      "{'1_K1': 7.0, '1_K2': 5.0, '1_L1': 12.0, '1_P1': 12.0, '1_B3': 3.0, '2_A2': 1161.0, '3_B12': 40.0, '3_B13': 40.0, '3_B14': 40.0, '3_B23': 30.0}\n"
     ]
    }
   ],
   "source": [
    "# biosynthesis. 25ul rxns, 2.5ul of diluted txtl\n",
    "\n",
    "# buffer source plate\n",
    "sp_buffers_file = folder + 'buffers_sp_230619.xlsx'\n",
    "sp_buffers= pd.read_excel(sp_buffers_file, index_col = 0, engine = 'openpyxl')\n",
    "sp_buffers = sp_buffers[~sp_buffers['Well'].isna()]\n",
    "\n",
    "# HEPES reservoir (actually same plate as Tris)\n",
    "sp_hepes = pd.DataFrame(columns=sp_buffers.columns)\n",
    "sp_hepes = sp_hepes.append({'Label':'HEPES', 'Well':'A2,A3', 'Concentration':'', 'Volume':'2000,2000'}, ignore_index = True)\n",
    "\n",
    "# gene expression source plate (diluted w/ Tris)\n",
    "#sp_genex = sp_from_layout(layout_genex, 60)\n",
    "layout_genex_384_file = folder + 'genex_pl_384.csv'\n",
    "layout_genex_384 = pd.read_csv(layout_genex_384_file, index_col = 0, dtype = str)\n",
    "sp_genex = sp_from_layout(layout_genex_384, 60)\n",
    "\n",
    "\n",
    "# group source plates\n",
    "sp_types = ['384PP_AQ_BP','6RES_AQ_BP2','384PP_AQ_BP'] # triple check this\n",
    "sps = [sp_buffers,sp_hepes,sp_genex]\n",
    "\n",
    "# get mixing table\n",
    "mt_biosyn_file = folder + 'kinetics_mt_230619.xlsx'\n",
    "mt_biosyn = pd.read_excel(mt_biosyn_file, index_col = 0, dtype = str, engine = 'openpyxl').fillna(0)\n",
    "mt_biosyn = mt_biosyn[~mt_biosyn.index.isna()]\n",
    "\n",
    "# check formats\n",
    "checkInputs(sps,mt_biosyn,sp_types)\n",
    "\n",
    "# layouts for destination plate(s)\n",
    "layout_biosyn1_file = folder + 'kinetics_pl.csv' \n",
    "layout_biosyn1 = pd.read_csv(layout_biosyn1_file, index_col = 0, dtype = str)\n",
    "layout_biosyn1 = layout_biosyn1[~layout_biosyn1.index.isna()]\n",
    "\n",
    "# filename = '221018_arpae_biosyn_neg.csv'\n",
    "# layout_biosyn2_file = 'plate_layouts/'+filename \n",
    "# layout_biosyn2 = pd.read_csv(layout_biosyn2_file, index_col = 0, dtype = str)\n",
    "# layouts = [layout_biosyn1,layout_biosyn2]\n",
    "\n",
    "vol_table_df = generateVolumeTable(mt_biosyn, sps, rxn_vol = 22.5, total_vol = 25, fill_with='HEPES')\n",
    "\n",
    "protocol_biosyn_dfs = writeProtocol(sp_types, vol_table_df, layout_biosyn1,sps, update_source_vol= folder +'combined_sp_updated_2.xlsx')\n",
    "\n",
    "#protocol_biosyn_df.to_csv('protocols/221018_arpae_biosyn.csv',index = False)"
   ]
  },
  {
   "cell_type": "code",
   "execution_count": null,
   "metadata": {},
   "outputs": [],
   "source": []
  }
 ],
 "metadata": {
  "kernelspec": {
   "display_name": "ODBM",
   "language": "python",
   "name": "python3"
  },
  "language_info": {
   "codemirror_mode": {
    "name": "ipython",
    "version": 3
   },
   "file_extension": ".py",
   "mimetype": "text/x-python",
   "name": "python",
   "nbconvert_exporter": "python",
   "pygments_lexer": "ipython3",
   "version": "3.7.15"
  },
  "vscode": {
   "interpreter": {
    "hash": "4f650c181a7ba5d7d04e206d035f7573ec76714a74f60d7d64744f882722c1d4"
   }
  }
 },
 "nbformat": 4,
 "nbformat_minor": 4
}
