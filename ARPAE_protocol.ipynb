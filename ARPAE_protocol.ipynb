{
 "cells": [
  {
   "cell_type": "code",
   "execution_count": 1,
   "metadata": {},
   "outputs": [],
   "source": [
    "from whispr import *"
   ]
  },
  {
   "cell_type": "code",
   "execution_count": 2,
   "metadata": {},
   "outputs": [
    {
     "name": "stdout",
     "output_type": "stream",
     "text": [
      "Volumes used from each well for this protocol:\n",
      "{'1_A1': 9.8, '1_P1': 0.6, '1_P2': 0.8, '1_P3': 1.2, '1_P4': 1.85}\n"
     ]
    }
   ],
   "source": [
    "# gene expression. 3ul rxns, 75% txtl\n",
    "source_plate_type = '384PP_AQ_BP' \n",
    "\n",
    "sp_plasmids_file = 'source_plates/221004_arpae_plasmids.xlsx'\n",
    "sp_plasmids = pd.read_excel(sp_plasmids_file, index_col = 0)\n",
    "sp_plasmids = sp_plasmids[~sp_plasmids['Well'].isna()]\n",
    "\n",
    "filename = '221004_arpae_genex.csv'\n",
    "layout_genex_file = 'plate_layouts/'+filename \n",
    "layout_genex = pd.read_csv(layout_genex_file, index_col = 0, dtype = str)\n",
    "\n",
    "mt_genex_file = 'mixing_tables/221004_arpae_plasmids.csv'\n",
    "mt_genex = pd.read_csv(mt_genex_file, index_col = 0, dtype = str).fillna(0)\n",
    "\n",
    "checkInputs(sp_plasmids, mt_genex,source_plate_type)\n",
    "\n",
    "vol_table_df = generateVolumeTable(mt_genex, sp_plasmids, rxn_vol = 0.25*3, total_vol = 3, fill_with='water')\n",
    "\n",
    "#specify rxn_vol (default = 2.5) and total_vol (default = 10) if you'd like to change the volume of each individual replicate or the total reaction volume\n",
    "protocol_genex_df = writeProtocol(source_plate_type, vol_table_df, layout_genex,sp_plasmids, update_source_vol=False)\n"
   ]
  },
  {
   "cell_type": "code",
   "execution_count": 3,
   "metadata": {},
   "outputs": [
    {
     "name": "stdout",
     "output_type": "stream",
     "text": [
      "Need 42.75 uL txtl\n"
     ]
    }
   ],
   "source": [
    "# everything gets txtl\n",
    "txtl_vol = 3*0.75*1000\n",
    "rxns = len(protocol_genex_df['Destination Well'].unique())\n",
    "print('Need '+str(rxns*txtl_vol/1000)+' uL txtl')\n",
    "txtl_well = 'P24'\n",
    "\n",
    "for dwell in protocol_genex_df['Destination Well'].unique():\n",
    "    row = {'Source Plate Name':'Source[1]', 'Source Plate Type': source_plate_type, 'Source Well': txtl_well,\n",
    "                                'Destination Plate Name':'Destination[1]', 'Destination Well': dwell, 'Transfer Volume': txtl_vol}\n",
    "    protocol_genex_df = protocol_genex_df.append(row, ignore_index = True)\n",
    "\n",
    "protocol_genex_df.to_csv('protocols/'+filename,index = False)\n",
    "\n",
    "# carry out gene expression reaction"
   ]
  },
  {
   "cell_type": "code",
   "execution_count": 4,
   "metadata": {},
   "outputs": [],
   "source": [
    "# dilution. everything gets Tris, for 20x -> 57uL\n",
    "protocol_dilution_df = pd.DataFrame(columns=protocol_genex_df.columns)\n",
    "source_plate_type = '6RES_AQ_B' \n",
    "tris_well = 'A1'\n",
    "tris_vol = 57*1000\n",
    "\n",
    "for dwell in protocol_genex_df['Destination Well'].unique():\n",
    "    row = {'Source Plate Name':'Source[1]', 'Source Plate Type': source_plate_type, 'Source Well': tris_well,\n",
    "                                'Destination Plate Name':'Destination[1]', 'Destination Well': dwell, 'Transfer Volume': tris_vol}\n",
    "    protocol_dilution_df = protocol_dilution_df.append(row, ignore_index = True)\n",
    "\n",
    "protocol_dilution_df.to_csv('protocols/221004_arpae_dilutions.csv',index = False)"
   ]
  },
  {
   "cell_type": "code",
   "execution_count": 5,
   "metadata": {},
   "outputs": [],
   "source": [
    "# from source plate with buffer, mix into 96\n",
    "\n",
    "# from source plate with genex, mix the diluted txtl"
   ]
  },
  {
   "cell_type": "code",
   "execution_count": 6,
   "metadata": {},
   "outputs": [
    {
     "name": "stdout",
     "output_type": "stream",
     "text": [
      "Volumes used from each well for this protocol:\n",
      "{'1_A1': 47.4, '1_A2': 17.4, '1_B1': 47.725, '1_B2': 1.5, '1_C1': 46.8, '1_C2': 46.2, '1_C3': 46.8, '1_C4': 46.2, '1_D1': 27.0, '1_E1': 47.5, '1_E2': 20.0, '1_F1': 2.7, '1_G1': 2.7, '1_H1': 47.8, '1_H2': 16.25, '1_I1': 47.25, '1_I2': 33.75, '1_J1': 47.8, '1_J2': 0.5, '1_K1': 25.35, '1_L1': 0.45, '2_A1': 1742.1, '2_A2': 98.825, '3_A1': 2.5, '3_A2': 42.5, '3_B2': 42.5, '3_C2': 42.5, '3_D2': 7.5, '3_B1': 2.5, '3_C1': 2.5, '3_D1': 2.5, '3_E1': 2.5, '3_F1': 2.5, '3_F2': 42.5, '3_G2': 42.5, '3_H2': 42.5, '3_I2': 7.5, '3_G1': 2.5, '3_H1': 2.5, '3_I1': 2.5, '3_J1': 2.5, '3_K1': 12.5}\n"
     ]
    }
   ],
   "source": [
    "# biosynthesis. 25ul rxns, 2.5ul of diluted txtl\n",
    "\n",
    "# buffer source plate\n",
    "sp_buffers_file = 'source_plates/221004_arpae_buffers.xlsx'\n",
    "sp_buffers= pd.read_excel(sp_buffers_file, index_col = 0)\n",
    "sp_buffers = sp_buffers[~sp_buffers['Well'].isna()]\n",
    "\n",
    "# HEPES reservoir \n",
    "sp_hepes = pd.DataFrame(columns=sp_buffers.columns)\n",
    "sp_hepes = sp_hepes.append({'Label':'HEPES', 'Well':'A1,A2', 'Concentration':'', 'Volume':'2000,2000'}, ignore_index = True)\n",
    "\n",
    "# gene expression source plate (diluted w/ Tris)\n",
    "sp_genex = sp_from_layout(layout_genex, 60)\n",
    "\n",
    "# group source plates\n",
    "sp_types = ['384PP_AQ_BP','6RES_AQ_BP','384PP_AQ_BP'] # triple check this\n",
    "sps = [sp_buffers,sp_hepes,sp_genex]\n",
    "\n",
    "# get mixing table\n",
    "mt_biosyn_file = 'mixing_tables/221004_arpae_buffers.csv'\n",
    "mt_biosyn = pd.read_csv(mt_biosyn_file, index_col = 0, dtype = str).fillna(0)\n",
    "\n",
    "# check formats\n",
    "checkInputs(sps,mt_biosyn,sp_types)\n",
    "\n",
    "# layouts for destination plate(s)\n",
    "filename = '221004_arpae_biosyn_pos.csv'\n",
    "layout_biosyn1_file = 'plate_layouts/'+filename \n",
    "layout_biosyn1 = pd.read_csv(layout_biosyn1_file, index_col = 0, dtype = str)\n",
    "filename = '221004_arpae_biosyn_neg.csv'\n",
    "layout_biosyn2_file = 'plate_layouts/'+filename \n",
    "layout_biosyn2 = pd.read_csv(layout_biosyn2_file, index_col = 0, dtype = str)\n",
    "layouts = [layout_biosyn1,layout_biosyn2]\n",
    "\n",
    "vol_table_df = generateVolumeTable(mt_biosyn, sps, rxn_vol = 22.5, total_vol = 25, fill_with='HEPES')\n",
    "\n",
    "protocol_biosyn_df = writeProtocol(sp_types, vol_table_df, layouts,sps, update_source_vol=False)\n",
    "\n",
    "protocol_biosyn_df.to_csv('protocols/221004_arpae_biosyn.csv',index = False)"
   ]
  }
 ],
 "metadata": {
  "kernelspec": {
   "display_name": "Python 3.7.6 64-bit ('txtl-sim': conda)",
   "language": "python",
   "name": "python3"
  },
  "language_info": {
   "codemirror_mode": {
    "name": "ipython",
    "version": 3
   },
   "file_extension": ".py",
   "mimetype": "text/x-python",
   "name": "python",
   "nbconvert_exporter": "python",
   "pygments_lexer": "ipython3",
   "version": "3.7.6"
  },
  "vscode": {
   "interpreter": {
    "hash": "f543d9e5f9a66fa15e5df6a673ace45eca063fa5ea1e663287fb3ebcaa0798bc"
   }
  }
 },
 "nbformat": 4,
 "nbformat_minor": 4
}
