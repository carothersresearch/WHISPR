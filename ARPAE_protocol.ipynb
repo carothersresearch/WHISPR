{
 "cells": [
  {
   "cell_type": "code",
   "execution_count": 1,
   "metadata": {},
   "outputs": [],
   "source": [
    "from whispr import *\n",
    "import os\n"
   ]
  },
  {
   "cell_type": "code",
   "execution_count": 14,
   "metadata": {},
   "outputs": [
    {
     "name": "stdout",
     "output_type": "stream",
     "text": [
      "Volumes used from each well for this protocol:\n",
      "{'1_A1': 3.675, '1_P1': 0.5, '1_P2': 1.15, '1_P3': 0.75, '1_P5': 0.05, '1_P8': 0.55, '1_P9': 0.4, '1_P15': 0.425}\n"
     ]
    },
    {
     "name": "stderr",
     "output_type": "stream",
     "text": [
      "/Users/ryancardiff/Documents/GitHub/WHISPR/whispr.py:99: FutureWarning: The frame.append method is deprecated and will be removed from pandas in a future version. Use pandas.concat instead.\n",
      "  vol_table_df = vol_table_df.append({'Label': str(row)}, ignore_index = True)\n",
      "/Users/ryancardiff/Documents/GitHub/WHISPR/whispr.py:99: FutureWarning: The frame.append method is deprecated and will be removed from pandas in a future version. Use pandas.concat instead.\n",
      "  vol_table_df = vol_table_df.append({'Label': str(row)}, ignore_index = True)\n",
      "/Users/ryancardiff/Documents/GitHub/WHISPR/whispr.py:99: FutureWarning: The frame.append method is deprecated and will be removed from pandas in a future version. Use pandas.concat instead.\n",
      "  vol_table_df = vol_table_df.append({'Label': str(row)}, ignore_index = True)\n",
      "/Users/ryancardiff/Documents/GitHub/WHISPR/whispr.py:345: FutureWarning: The frame.append method is deprecated and will be removed from pandas in a future version. Use pandas.concat instead.\n",
      "  output_df = output_df.append(echo_command, ignore_index = True)\n",
      "/Users/ryancardiff/Documents/GitHub/WHISPR/whispr.py:345: FutureWarning: The frame.append method is deprecated and will be removed from pandas in a future version. Use pandas.concat instead.\n",
      "  output_df = output_df.append(echo_command, ignore_index = True)\n",
      "/Users/ryancardiff/Documents/GitHub/WHISPR/whispr.py:345: FutureWarning: The frame.append method is deprecated and will be removed from pandas in a future version. Use pandas.concat instead.\n",
      "  output_df = output_df.append(echo_command, ignore_index = True)\n",
      "/Users/ryancardiff/Documents/GitHub/WHISPR/whispr.py:345: FutureWarning: The frame.append method is deprecated and will be removed from pandas in a future version. Use pandas.concat instead.\n",
      "  output_df = output_df.append(echo_command, ignore_index = True)\n",
      "/Users/ryancardiff/Documents/GitHub/WHISPR/whispr.py:345: FutureWarning: The frame.append method is deprecated and will be removed from pandas in a future version. Use pandas.concat instead.\n",
      "  output_df = output_df.append(echo_command, ignore_index = True)\n",
      "/Users/ryancardiff/Documents/GitHub/WHISPR/whispr.py:345: FutureWarning: The frame.append method is deprecated and will be removed from pandas in a future version. Use pandas.concat instead.\n",
      "  output_df = output_df.append(echo_command, ignore_index = True)\n",
      "/Users/ryancardiff/Documents/GitHub/WHISPR/whispr.py:345: FutureWarning: The frame.append method is deprecated and will be removed from pandas in a future version. Use pandas.concat instead.\n",
      "  output_df = output_df.append(echo_command, ignore_index = True)\n",
      "/Users/ryancardiff/Documents/GitHub/WHISPR/whispr.py:345: FutureWarning: The frame.append method is deprecated and will be removed from pandas in a future version. Use pandas.concat instead.\n",
      "  output_df = output_df.append(echo_command, ignore_index = True)\n",
      "/Users/ryancardiff/Documents/GitHub/WHISPR/whispr.py:345: FutureWarning: The frame.append method is deprecated and will be removed from pandas in a future version. Use pandas.concat instead.\n",
      "  output_df = output_df.append(echo_command, ignore_index = True)\n",
      "/Users/ryancardiff/Documents/GitHub/WHISPR/whispr.py:345: FutureWarning: The frame.append method is deprecated and will be removed from pandas in a future version. Use pandas.concat instead.\n",
      "  output_df = output_df.append(echo_command, ignore_index = True)\n",
      "/Users/ryancardiff/Documents/GitHub/WHISPR/whispr.py:345: FutureWarning: The frame.append method is deprecated and will be removed from pandas in a future version. Use pandas.concat instead.\n",
      "  output_df = output_df.append(echo_command, ignore_index = True)\n",
      "/Users/ryancardiff/Documents/GitHub/WHISPR/whispr.py:345: FutureWarning: The frame.append method is deprecated and will be removed from pandas in a future version. Use pandas.concat instead.\n",
      "  output_df = output_df.append(echo_command, ignore_index = True)\n",
      "/Users/ryancardiff/Documents/GitHub/WHISPR/whispr.py:345: FutureWarning: The frame.append method is deprecated and will be removed from pandas in a future version. Use pandas.concat instead.\n",
      "  output_df = output_df.append(echo_command, ignore_index = True)\n",
      "/Users/ryancardiff/Documents/GitHub/WHISPR/whispr.py:345: FutureWarning: The frame.append method is deprecated and will be removed from pandas in a future version. Use pandas.concat instead.\n",
      "  output_df = output_df.append(echo_command, ignore_index = True)\n",
      "/Users/ryancardiff/Documents/GitHub/WHISPR/whispr.py:345: FutureWarning: The frame.append method is deprecated and will be removed from pandas in a future version. Use pandas.concat instead.\n",
      "  output_df = output_df.append(echo_command, ignore_index = True)\n",
      "/Users/ryancardiff/Documents/GitHub/WHISPR/whispr.py:345: FutureWarning: The frame.append method is deprecated and will be removed from pandas in a future version. Use pandas.concat instead.\n",
      "  output_df = output_df.append(echo_command, ignore_index = True)\n"
     ]
    }
   ],
   "source": [
    "# gene expression. 2.5ul rxns, 75% txtl\n",
    "rxn_vol = 10\n",
    "source_plate_type = '384PP_AQ_BP' \n",
    "\n",
    "os.getcwd()\n",
    "folder = os.getcwd() + '/Experiments/221213_ATP_regen/'\n",
    "sp_plasmids_file = folder + 'arpae_plasmids.xlsx'\n",
    "sp_plasmids = pd.read_excel(sp_plasmids_file, index_col = 0)\n",
    "sp_plasmids = sp_plasmids[~sp_plasmids['Well'].isna()]\n",
    "\n",
    "layout_genex_file = folder + 'atp-regen-genex-pl.csv'\n",
    "layout_genex = pd.read_csv(layout_genex_file, index_col = 0, dtype = str)\n",
    "\n",
    "mt_genex_file = folder + 'atp-regen-genex-mt.csv'\n",
    "mt_genex = pd.read_csv(mt_genex_file, index_col = 0, dtype = str).fillna(0)\n",
    "\n",
    "checkInputs(sp_plasmids, mt_genex,source_plate_type)\n",
    "\n",
    "vol_table_df = generateVolumeTable(mt_genex, sp_plasmids, rxn_vol = 0.25*rxn_vol, total_vol = rxn_vol, fill_with='water', multiRpW = False)\n",
    "\n",
    "#specify rxn_vol (default = 2.5) and total_vol (default = 10) if you'd like to change the volume of each individual replicate or the total reaction volume\n",
    "protocol_genex_df = writeProtocol(source_plate_type, vol_table_df, layout_genex,sp_plasmids, update_source_vol=folder+'221213_arpae_plasmids_updated.xlsx')\n"
   ]
  },
  {
   "cell_type": "code",
   "execution_count": 15,
   "metadata": {},
   "outputs": [],
   "source": [
    "protocol_genex_df = protocol_genex_df[0]"
   ]
  },
  {
   "cell_type": "code",
   "execution_count": 18,
   "metadata": {},
   "outputs": [
    {
     "data": {
      "text/html": [
       "<div>\n",
       "<style scoped>\n",
       "    .dataframe tbody tr th:only-of-type {\n",
       "        vertical-align: middle;\n",
       "    }\n",
       "\n",
       "    .dataframe tbody tr th {\n",
       "        vertical-align: top;\n",
       "    }\n",
       "\n",
       "    .dataframe thead th {\n",
       "        text-align: right;\n",
       "    }\n",
       "</style>\n",
       "<table border=\"1\" class=\"dataframe\">\n",
       "  <thead>\n",
       "    <tr style=\"text-align: right;\">\n",
       "      <th></th>\n",
       "      <th>Label</th>\n",
       "      <th>water</th>\n",
       "      <th>biotin</th>\n",
       "      <th>Pyc</th>\n",
       "      <th>Fdh</th>\n",
       "      <th>P70_GFP</th>\n",
       "      <th>Mdh</th>\n",
       "      <th>Mdh_10x</th>\n",
       "      <th>ME2</th>\n",
       "      <th>TdcB</th>\n",
       "      <th>PLP</th>\n",
       "      <th>SHMT</th>\n",
       "      <th>ICL</th>\n",
       "      <th>MS</th>\n",
       "      <th>ACS</th>\n",
       "      <th>Chi6</th>\n",
       "      <th>ppk12</th>\n",
       "    </tr>\n",
       "  </thead>\n",
       "  <tbody>\n",
       "    <tr>\n",
       "      <th>0</th>\n",
       "      <td>ppk_minus</td>\n",
       "      <td>0.8</td>\n",
       "      <td>0.25</td>\n",
       "      <td>0.575</td>\n",
       "      <td>0.375</td>\n",
       "      <td>NaN</td>\n",
       "      <td>0.025</td>\n",
       "      <td>NaN</td>\n",
       "      <td>NaN</td>\n",
       "      <td>0.275</td>\n",
       "      <td>0.2</td>\n",
       "      <td>NaN</td>\n",
       "      <td>NaN</td>\n",
       "      <td>NaN</td>\n",
       "      <td>NaN</td>\n",
       "      <td>NaN</td>\n",
       "      <td>0.0</td>\n",
       "    </tr>\n",
       "    <tr>\n",
       "      <th>1</th>\n",
       "      <td>ppk_plus</td>\n",
       "      <td>0.375</td>\n",
       "      <td>0.25</td>\n",
       "      <td>0.575</td>\n",
       "      <td>0.375</td>\n",
       "      <td>NaN</td>\n",
       "      <td>0.025</td>\n",
       "      <td>NaN</td>\n",
       "      <td>NaN</td>\n",
       "      <td>0.275</td>\n",
       "      <td>0.2</td>\n",
       "      <td>NaN</td>\n",
       "      <td>NaN</td>\n",
       "      <td>NaN</td>\n",
       "      <td>NaN</td>\n",
       "      <td>NaN</td>\n",
       "      <td>0.425</td>\n",
       "    </tr>\n",
       "    <tr>\n",
       "      <th>2</th>\n",
       "      <td>Std_121322</td>\n",
       "      <td>2.5</td>\n",
       "      <td>0.0</td>\n",
       "      <td>0.0</td>\n",
       "      <td>0.0</td>\n",
       "      <td>NaN</td>\n",
       "      <td>0.0</td>\n",
       "      <td>NaN</td>\n",
       "      <td>NaN</td>\n",
       "      <td>0.0</td>\n",
       "      <td>0.0</td>\n",
       "      <td>NaN</td>\n",
       "      <td>NaN</td>\n",
       "      <td>NaN</td>\n",
       "      <td>NaN</td>\n",
       "      <td>NaN</td>\n",
       "      <td>0.0</td>\n",
       "    </tr>\n",
       "  </tbody>\n",
       "</table>\n",
       "</div>"
      ],
      "text/plain": [
       "        Label  water biotin    Pyc    Fdh P70_GFP    Mdh Mdh_10x  ME2   TdcB  \\\n",
       "0   ppk_minus    0.8   0.25  0.575  0.375     NaN  0.025     NaN  NaN  0.275   \n",
       "1    ppk_plus  0.375   0.25  0.575  0.375     NaN  0.025     NaN  NaN  0.275   \n",
       "2  Std_121322    2.5    0.0    0.0    0.0     NaN    0.0     NaN  NaN    0.0   \n",
       "\n",
       "   PLP SHMT  ICL   MS  ACS Chi6  ppk12  \n",
       "0  0.2  NaN  NaN  NaN  NaN  NaN    0.0  \n",
       "1  0.2  NaN  NaN  NaN  NaN  NaN  0.425  \n",
       "2  0.0  NaN  NaN  NaN  NaN  NaN    0.0  "
      ]
     },
     "execution_count": 18,
     "metadata": {},
     "output_type": "execute_result"
    }
   ],
   "source": [
    "vol_table_df"
   ]
  },
  {
   "cell_type": "code",
   "execution_count": 17,
   "metadata": {},
   "outputs": [
    {
     "name": "stdout",
     "output_type": "stream",
     "text": [
      "ppk_plus\n",
      "ppk_minus\n",
      "Std_121322\n",
      "TXTL needed: 22.5\n"
     ]
    },
    {
     "name": "stderr",
     "output_type": "stream",
     "text": [
      "/var/folders/55/z2skprpx0m3_6k8fs3mcm_mm0000gn/T/ipykernel_73095/455720547.py:23: FutureWarning: The frame.append method is deprecated and will be removed from pandas in a future version. Use pandas.concat instead.\n",
      "  protocol_genex_df = protocol_genex_df.append(row, ignore_index = True)\n",
      "/var/folders/55/z2skprpx0m3_6k8fs3mcm_mm0000gn/T/ipykernel_73095/455720547.py:23: FutureWarning: The frame.append method is deprecated and will be removed from pandas in a future version. Use pandas.concat instead.\n",
      "  protocol_genex_df = protocol_genex_df.append(row, ignore_index = True)\n",
      "/var/folders/55/z2skprpx0m3_6k8fs3mcm_mm0000gn/T/ipykernel_73095/455720547.py:23: FutureWarning: The frame.append method is deprecated and will be removed from pandas in a future version. Use pandas.concat instead.\n",
      "  protocol_genex_df = protocol_genex_df.append(row, ignore_index = True)\n"
     ]
    }
   ],
   "source": [
    "# everything gets txtl\n",
    "\n",
    "# get destination wells\n",
    "for layout_id, layout in enumerate([layout_genex]):    \n",
    "    # reads plate layout and assigns wells to each reaction (rxn_loc; dict)\n",
    "    labels = pd.unique(np.concatenate(layout.values))\n",
    "    rxn_loc = {}\n",
    "    for l in labels:\n",
    "        if type(l) is str:\n",
    "            index = layout[layout.isin([l])].stack().index\n",
    "            rxn_loc[l] = []\n",
    "            for i in index:\n",
    "                rxn_loc[l].append(str(i[0]) + str(i[1]))\n",
    "\n",
    "\n",
    "txtl_well = 'M24'\n",
    "for label, dwell in rxn_loc.items():\n",
    "    for d in dwell:\n",
    "        print(label)\n",
    "        txtl_vol = vol_table_df[vol_table_df['Label'] == label].iloc[0,1:].sum()/0.25*0.75*1000 # add txtl to make 75%\n",
    "        row = {'Source Plate Name':'Source[1]', 'Source Plate Type': source_plate_type, 'Source Well': txtl_well,\n",
    "                                    'Destination Plate Name':'Destination[1]', 'Destination Well': d, 'Transfer Volume': txtl_vol}\n",
    "        protocol_genex_df = protocol_genex_df.append(row, ignore_index = True)\n",
    "\n",
    "protocol_genex_df.to_csv(folder+'protocol_genex.csv',index = False)\n",
    "print('TXTL needed: '+str(protocol_genex_df[protocol_genex_df['Source Well'] == txtl_well]['Transfer Volume'].sum()/1000))\n",
    "# carry out gene expression reaction"
   ]
  },
  {
   "cell_type": "code",
   "execution_count": 37,
   "metadata": {},
   "outputs": [],
   "source": [
    "# dilution. everything gets Tris, for 20x -> 57uL\n",
    "\n",
    "##### doing it by hand if not too many reactions #####\n",
    "\n",
    "# protocol_dilution_df = pd.DataFrame(columns=protocol_genex_df.columns)\n",
    "# source_plate_type = '6RES_AQ_B' \n",
    "# tris_well = 'A1'\n",
    "# tris_vol = 57*1000\n",
    "\n",
    "# for dwell in protocol_genex_df['Destination Well'].unique():\n",
    "#     row = {'Source Plate Name':'Source[1]', 'Source Plate Type': source_plate_type, 'Source Well': tris_well,\n",
    "#                                 'Destination Plate Name':'Destination[1]', 'Destination Well': dwell, 'Transfer Volume': tris_vol}\n",
    "#     protocol_dilution_df = protocol_dilution_df.append(row, ignore_index = True)\n",
    "\n",
    "# protocol_dilution_df.to_csv('protocols/221024_arpae_dilutions.csv',index = False)"
   ]
  },
  {
   "cell_type": "code",
   "execution_count": null,
   "metadata": {},
   "outputs": [],
   "source": [
    "# from source plate with buffer, mix into 96\n",
    "\n",
    "# from source plate with genex, mix the diluted txtl"
   ]
  },
  {
   "cell_type": "code",
   "execution_count": 38,
   "metadata": {},
   "outputs": [
    {
     "name": "stderr",
     "output_type": "stream",
     "text": [
      "/var/folders/55/z2skprpx0m3_6k8fs3mcm_mm0000gn/T/ipykernel_73095/139932593.py:10: FutureWarning: The frame.append method is deprecated and will be removed from pandas in a future version. Use pandas.concat instead.\n",
      "  sp_hepes = sp_hepes.append({'Label':'HEPES', 'Well':'A2,A3', 'Concentration':'', 'Volume':'2000,2000'}, ignore_index = True)\n",
      "/Users/ryancardiff/Documents/GitHub/WHISPR/whispr.py:182: FutureWarning: The frame.append method is deprecated and will be removed from pandas in a future version. Use pandas.concat instead.\n",
      "  sp = sp.append({'Label':label, 'Well':','.join(wells), 'Concentration':100, 'Volume':','.join([str(volumes)]*len(wells))}, ignore_index = True)\n",
      "/Users/ryancardiff/Documents/GitHub/WHISPR/whispr.py:182: FutureWarning: The frame.append method is deprecated and will be removed from pandas in a future version. Use pandas.concat instead.\n",
      "  sp = sp.append({'Label':label, 'Well':','.join(wells), 'Concentration':100, 'Volume':','.join([str(volumes)]*len(wells))}, ignore_index = True)\n",
      "/Users/ryancardiff/Documents/GitHub/WHISPR/whispr.py:182: FutureWarning: The frame.append method is deprecated and will be removed from pandas in a future version. Use pandas.concat instead.\n",
      "  sp = sp.append({'Label':label, 'Well':','.join(wells), 'Concentration':100, 'Volume':','.join([str(volumes)]*len(wells))}, ignore_index = True)\n",
      "/Users/ryancardiff/Documents/GitHub/WHISPR/whispr.py:99: FutureWarning: The frame.append method is deprecated and will be removed from pandas in a future version. Use pandas.concat instead.\n",
      "  vol_table_df = vol_table_df.append({'Label': str(row)}, ignore_index = True)\n"
     ]
    },
    {
     "ename": "TypeError",
     "evalue": "sort_values() got an unexpected keyword argument 'by'",
     "output_type": "error",
     "traceback": [
      "\u001b[0;31m---------------------------------------------------------------------------\u001b[0m",
      "\u001b[0;31mTypeError\u001b[0m                                 Traceback (most recent call last)",
      "\u001b[0;32m/var/folders/55/z2skprpx0m3_6k8fs3mcm_mm0000gn/T/ipykernel_73095/139932593.py\u001b[0m in \u001b[0;36m<module>\u001b[0;34m\u001b[0m\n\u001b[1;32m     32\u001b[0m \u001b[0;31m# layouts = [layout_biosyn1,layout_biosyn2]\u001b[0m\u001b[0;34m\u001b[0m\u001b[0;34m\u001b[0m\u001b[0m\n\u001b[1;32m     33\u001b[0m \u001b[0;34m\u001b[0m\u001b[0m\n\u001b[0;32m---> 34\u001b[0;31m \u001b[0mvol_table_df\u001b[0m \u001b[0;34m=\u001b[0m \u001b[0mgenerateVolumeTable\u001b[0m\u001b[0;34m(\u001b[0m\u001b[0mmt_biosyn\u001b[0m\u001b[0;34m,\u001b[0m \u001b[0msps\u001b[0m\u001b[0;34m,\u001b[0m \u001b[0mrxn_vol\u001b[0m \u001b[0;34m=\u001b[0m \u001b[0;36m22.5\u001b[0m\u001b[0;34m,\u001b[0m \u001b[0mtotal_vol\u001b[0m \u001b[0;34m=\u001b[0m \u001b[0;36m25\u001b[0m\u001b[0;34m,\u001b[0m \u001b[0mfill_with\u001b[0m\u001b[0;34m=\u001b[0m\u001b[0;34m'HEPES'\u001b[0m\u001b[0;34m)\u001b[0m\u001b[0;34m\u001b[0m\u001b[0;34m\u001b[0m\u001b[0m\n\u001b[0m\u001b[1;32m     35\u001b[0m \u001b[0;34m\u001b[0m\u001b[0m\n\u001b[1;32m     36\u001b[0m \u001b[0mprotocol_biosyn_dfs\u001b[0m \u001b[0;34m=\u001b[0m \u001b[0mwriteProtocol\u001b[0m\u001b[0;34m(\u001b[0m\u001b[0msp_types\u001b[0m\u001b[0;34m,\u001b[0m \u001b[0mvol_table_df\u001b[0m\u001b[0;34m,\u001b[0m \u001b[0mlayout_biosyn1\u001b[0m\u001b[0;34m,\u001b[0m\u001b[0msps\u001b[0m\u001b[0;34m,\u001b[0m \u001b[0mupdate_source_vol\u001b[0m\u001b[0;34m=\u001b[0m \u001b[0mfolder\u001b[0m \u001b[0;34m+\u001b[0m\u001b[0;34m'combined_sp_updated.xlsx'\u001b[0m\u001b[0;34m)\u001b[0m\u001b[0;34m\u001b[0m\u001b[0;34m\u001b[0m\u001b[0m\n",
      "\u001b[0;32m~/Documents/GitHub/WHISPR/whispr.py\u001b[0m in \u001b[0;36mgenerateVolumeTable\u001b[0;34m(mixing_table_df, source_plate_df, rxn_vol, total_vol, min_well_vol, fill_with, multiRpW)\u001b[0m\n\u001b[1;32m    105\u001b[0m             \u001b[0mconc_of_source\u001b[0m \u001b[0;34m=\u001b[0m \u001b[0mrunning_source_plate\u001b[0m\u001b[0;34m.\u001b[0m\u001b[0mloc\u001b[0m\u001b[0;34m[\u001b[0m\u001b[0mcolumn\u001b[0m\u001b[0;34m]\u001b[0m\u001b[0;34m[\u001b[0m\u001b[0;34m'Concentration'\u001b[0m\u001b[0;34m]\u001b[0m\u001b[0;34m\u001b[0m\u001b[0;34m\u001b[0m\u001b[0m\n\u001b[1;32m    106\u001b[0m             \u001b[0;32mif\u001b[0m \u001b[0;34m(\u001b[0m\u001b[0mtype\u001b[0m\u001b[0;34m(\u001b[0m\u001b[0mconc_of_source\u001b[0m\u001b[0;34m)\u001b[0m \u001b[0;34m!=\u001b[0m \u001b[0mnp\u001b[0m\u001b[0;34m.\u001b[0m\u001b[0mfloat64\u001b[0m\u001b[0;34m)\u001b[0m \u001b[0;32mand\u001b[0m \u001b[0;34m(\u001b[0m\u001b[0mtype\u001b[0m\u001b[0;34m(\u001b[0m\u001b[0mconc_of_source\u001b[0m\u001b[0;34m)\u001b[0m \u001b[0;34m!=\u001b[0m \u001b[0mfloat\u001b[0m\u001b[0;34m)\u001b[0m\u001b[0;34m:\u001b[0m\u001b[0;34m\u001b[0m\u001b[0;34m\u001b[0m\u001b[0m\n\u001b[0;32m--> 107\u001b[0;31m                 \u001b[0;32mwhile\u001b[0m \u001b[0mrunning_source_plate\u001b[0m\u001b[0;34m.\u001b[0m\u001b[0mloc\u001b[0m\u001b[0;34m[\u001b[0m\u001b[0mcolumn\u001b[0m\u001b[0;34m]\u001b[0m\u001b[0;34m.\u001b[0m\u001b[0msort_values\u001b[0m\u001b[0;34m(\u001b[0m\u001b[0mascending\u001b[0m \u001b[0;34m=\u001b[0m \u001b[0;32mFalse\u001b[0m\u001b[0;34m,\u001b[0m \u001b[0mby\u001b[0m \u001b[0;34m=\u001b[0m \u001b[0;34m'Concentration'\u001b[0m\u001b[0;34m)\u001b[0m\u001b[0;34m[\u001b[0m\u001b[0;34m'Volume'\u001b[0m\u001b[0;34m]\u001b[0m\u001b[0;34m[\u001b[0m\u001b[0mlabel_indx\u001b[0m\u001b[0;34m]\u001b[0m \u001b[0;34m<=\u001b[0m \u001b[0mmin_well_vol\u001b[0m\u001b[0;34m:\u001b[0m\u001b[0;34m\u001b[0m\u001b[0;34m\u001b[0m\u001b[0m\n\u001b[0m\u001b[1;32m    108\u001b[0m                     \u001b[0mlabel_indx\u001b[0m \u001b[0;34m+=\u001b[0m \u001b[0;36m1\u001b[0m\u001b[0;34m\u001b[0m\u001b[0;34m\u001b[0m\u001b[0m\n\u001b[1;32m    109\u001b[0m                 \u001b[0;32melse\u001b[0m\u001b[0;34m:\u001b[0m\u001b[0;34m\u001b[0m\u001b[0;34m\u001b[0m\u001b[0m\n",
      "\u001b[0;32m~/opt/anaconda3/lib/python3.9/site-packages/pandas/util/_decorators.py\u001b[0m in \u001b[0;36mwrapper\u001b[0;34m(*args, **kwargs)\u001b[0m\n\u001b[1;32m    309\u001b[0m                     \u001b[0mstacklevel\u001b[0m\u001b[0;34m=\u001b[0m\u001b[0mstacklevel\u001b[0m\u001b[0;34m,\u001b[0m\u001b[0;34m\u001b[0m\u001b[0;34m\u001b[0m\u001b[0m\n\u001b[1;32m    310\u001b[0m                 )\n\u001b[0;32m--> 311\u001b[0;31m             \u001b[0;32mreturn\u001b[0m \u001b[0mfunc\u001b[0m\u001b[0;34m(\u001b[0m\u001b[0;34m*\u001b[0m\u001b[0margs\u001b[0m\u001b[0;34m,\u001b[0m \u001b[0;34m**\u001b[0m\u001b[0mkwargs\u001b[0m\u001b[0;34m)\u001b[0m\u001b[0;34m\u001b[0m\u001b[0;34m\u001b[0m\u001b[0m\n\u001b[0m\u001b[1;32m    312\u001b[0m \u001b[0;34m\u001b[0m\u001b[0m\n\u001b[1;32m    313\u001b[0m         \u001b[0;32mreturn\u001b[0m \u001b[0mwrapper\u001b[0m\u001b[0;34m\u001b[0m\u001b[0;34m\u001b[0m\u001b[0m\n",
      "\u001b[0;31mTypeError\u001b[0m: sort_values() got an unexpected keyword argument 'by'"
     ]
    }
   ],
   "source": [
    "# biosynthesis. 25ul rxns, 2.5ul of diluted txtl\n",
    "\n",
    "# buffer source plate\n",
    "sp_buffers_file = folder + 'UPDATE_buffers_sp.xlsx'\n",
    "sp_buffers= pd.read_excel(sp_buffers_file, index_col = 0)\n",
    "sp_buffers = sp_buffers[~sp_buffers['Well'].isna()]\n",
    "\n",
    "# HEPES reservoir (actually same plate as Tris)\n",
    "sp_hepes = pd.DataFrame(columns=sp_buffers.columns)\n",
    "sp_hepes = sp_hepes.append({'Label':'HEPES', 'Well':'A2,A3', 'Concentration':'', 'Volume':'2000,2000'}, ignore_index = True)\n",
    "\n",
    "# gene expression source plate (diluted w/ Tris)\n",
    "sp_genex = sp_from_layout(layout_genex, 60)\n",
    "\n",
    "# group source plates\n",
    "sp_types = ['384PP_AQ_BP','6RES_AQ_BP2','384PP_AQ_BP'] # triple check this\n",
    "sps = [sp_buffers,sp_hepes,sp_genex]\n",
    "\n",
    "# get mixing table\n",
    "mt_biosyn_file = folder + 'atp-regen-buffers-mt.csv'\n",
    "mt_biosyn = pd.read_csv(mt_biosyn_file, index_col = 0, dtype = str).fillna(0)\n",
    "\n",
    "# check formats\n",
    "checkInputs(sps,mt_biosyn,sp_types)\n",
    "\n",
    "# layouts for destination plate(s)\n",
    "layout_biosyn1_file = folder + 'biosyn_pl.csv' \n",
    "layout_biosyn1 = pd.read_csv(layout_biosyn1_file, index_col = 0, dtype = str)\n",
    "# filename = '221018_arpae_biosyn_neg.csv'\n",
    "# layout_biosyn2_file = 'plate_layouts/'+filename \n",
    "# layout_biosyn2 = pd.read_csv(layout_biosyn2_file, index_col = 0, dtype = str)\n",
    "# layouts = [layout_biosyn1,layout_biosyn2]\n",
    "\n",
    "vol_table_df = generateVolumeTable(mt_biosyn, sps, rxn_vol = 22.5, total_vol = 25, fill_with='HEPES')\n",
    "\n",
    "protocol_biosyn_dfs = writeProtocol(sp_types, vol_table_df, layout_biosyn1,sps, update_source_vol= folder +'combined_sp_updated.xlsx')\n",
    "\n",
    "#protocol_biosyn_df.to_csv('protocols/221018_arpae_biosyn.csv',index = False)"
   ]
  },
  {
   "cell_type": "code",
   "execution_count": 57,
   "metadata": {},
   "outputs": [],
   "source": [
    "protocol_biosyn_dfs[0].to_csv('protocols/221024_arpae_biosyn_384.csv',index = False)\n",
    "protocol_biosyn_dfs[1].to_csv('protocols/221024_arpae_biosyn_6RES.csv',index = False)"
   ]
  },
  {
   "cell_type": "code",
   "execution_count": null,
   "metadata": {},
   "outputs": [],
   "source": []
  }
 ],
 "metadata": {
  "kernelspec": {
   "display_name": "Python 3 (ipykernel)",
   "language": "python",
   "name": "python3"
  },
  "language_info": {
   "codemirror_mode": {
    "name": "ipython",
    "version": 3
   },
   "file_extension": ".py",
   "mimetype": "text/x-python",
   "name": "python",
   "nbconvert_exporter": "python",
   "pygments_lexer": "ipython3",
   "version": "3.9.13"
  },
  "vscode": {
   "interpreter": {
    "hash": "f543d9e5f9a66fa15e5df6a673ace45eca063fa5ea1e663287fb3ebcaa0798bc"
   }
  }
 },
 "nbformat": 4,
 "nbformat_minor": 4
}
