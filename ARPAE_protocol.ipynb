{
 "cells": [
  {
   "cell_type": "code",
   "execution_count": 42,
   "metadata": {},
   "outputs": [],
   "source": [
    "import warnings\n",
    "warnings.simplefilter(action='ignore', category=FutureWarning) # setting ignore as a parameter and further adding category\n",
    "from whispr import *\n",
    "import os\n"
   ]
  },
  {
   "cell_type": "code",
   "execution_count": 85,
   "metadata": {},
   "outputs": [
    {
     "name": "stdout",
     "output_type": "stream",
     "text": [
      "A1 chi6\n",
      "A2 chi6\n",
      "A3 chi6\n",
      "A4 chi6\n",
      "A5 chi6\n",
      "A6 chi6\n",
      "A7 chi6\n",
      "A8 chi6\n",
      "A9 chi6\n",
      "A10 chi6\n",
      "A11 chi6\n",
      "A12 chi6\n",
      "A13 chi6\n",
      "A14 chi6\n",
      "A15 chi6\n",
      "A16 chi6\n",
      "A17 chi6\n",
      "A18 chi6\n",
      "A19 chi6\n",
      "A20 chi6\n",
      "A21 chi6\n",
      "A22 chi6\n",
      "A23 chi6\n",
      "A24 chi6\n",
      "A25 chi6\n",
      "A26 chi6\n",
      "A27 chi6\n",
      "A28 chi6\n",
      "A29 chi6\n",
      "A30 chi6\n",
      "A31 chi6\n",
      "A32 chi6\n",
      "A33 chi6\n",
      "A34 chi6\n",
      "Volumes used from each well for this protocol:\n",
      "{'1_B16': 40.425, '1_B17': 8.475, '1_C1': 5.95, '1_C12': 6.8, '1_C3': 1.225, '1_C4': 7.5, '1_C5': 0.7, '1_C6': 1.25, '1_C13': 7.9, '1_C8': 0.625, '1_C9': 0.475, '1_C10': 1.575, '1_C11': 2.1}\n"
     ]
    }
   ],
   "source": [
    "# gene expression. 2.5ul rxns, 75% txtl\n",
    "rxn_vol = 10\n",
    "source_plate_type = '384PP_AQ_BP' \n",
    "\n",
    "os.getcwd()\n",
    "folder = os.getcwd() + '/Experiments/250117_KO/'\n",
    "sp_plasmids_file = folder + '250117_plasmids_amounts.xlsx'\n",
    "sp_plasmids = pd.read_excel(sp_plasmids_file, index_col = 0, engine='openpyxl')\n",
    "sp_plasmids = sp_plasmids[~sp_plasmids['Well'].isna()]\n",
    "\n",
    "layout_genex_file = folder + '250117_plate_map.csv'\n",
    "#layout_genex = pd.xlsx(layout_genex_file, index_col = 0, dtype = str)\n",
    "layout_genex = pd.read_csv(layout_genex_file, index_col = 0, dtype = str)\n",
    "\n",
    "mt_genex_file = folder + '250117_table_amounts.csv'\n",
    "# mt_genex = pd.read_excel(mt_genex_file, index_col = 0, engine='openpyxl').fillna(0)\n",
    "#mt_genex = pd.read_excel(mt_genex_file, index_col = 0, dtype = str).fillna(0)\n",
    "mt_genex = pd.read_csv(mt_genex_file, index_col = 0, dtype = str).fillna(0)\n",
    "\n",
    "checkInputs(sp_plasmids, mt_genex,source_plate_type)\n",
    "\n",
    "vol_table_df = generateVolumeTable(mt_genex, sp_plasmids, rxn_vol = 0.25*rxn_vol, total_vol = rxn_vol, fill_with='Water', multiRpW = False)\n",
    "\n",
    "#specify rxn_vol (default = 2.5) and total_vol (default = 10) if you'd like to change the volume of each individual replicate or the total reaction volume\n",
    "protocol_genex_df = writeProtocol(source_plate_type, vol_table_df, layout_genex,sp_plasmids, update_source_vol=folder+'plasmids_sp_updated.xlsx')\n"
   ]
  },
  {
   "cell_type": "code",
   "execution_count": 86,
   "metadata": {},
   "outputs": [],
   "source": [
    "protocol_genex_df = protocol_genex_df[0]"
   ]
  },
  {
   "cell_type": "code",
   "execution_count": 87,
   "metadata": {},
   "outputs": [
    {
     "name": "stdout",
     "output_type": "stream",
     "text": [
      "here\n",
      "A1\n",
      "A2\n",
      "A3\n",
      "A4\n",
      "A5\n",
      "A6\n",
      "A7\n",
      "A8\n",
      "A9\n",
      "A10\n",
      "A11\n",
      "A12\n",
      "A13\n",
      "A14\n",
      "A15\n",
      "A16\n",
      "A17\n",
      "A18\n",
      "A19\n",
      "A20\n",
      "A21\n",
      "A22\n",
      "A23\n",
      "A24\n",
      "A25\n",
      "A26\n",
      "A27\n",
      "A28\n",
      "A29\n",
      "A30\n",
      "A31\n",
      "A32\n",
      "A33\n",
      "A34\n",
      "TXTL needed: 255.0 ul\n",
      "Wells needed: 7.0\n"
     ]
    }
   ],
   "source": [
    "# everything gets txtl\n",
    "\n",
    "# get destination wells\n",
    "for layout_id, layout in enumerate([layout_genex]):    \n",
    "    # reads plate layout and assigns wells to each reaction (rxn_loc; dict)\n",
    "    labels = pd.unique(np.concatenate(layout.values))\n",
    "    rxn_loc = {}\n",
    "    for l in labels:\n",
    "        if type(l) is str:\n",
    "            index = layout[layout.isin([l])].stack().index\n",
    "            rxn_loc[l] = []\n",
    "            for i in index:\n",
    "                rxn_loc[l].append(str(i[0]) + str(i[1]))\n",
    "\n",
    "#if you need more wells than one for the reaction, enter the wells where your Txtl is stored in a list format below ex. [\"P7\", \"P8\", \"P9\"]\n",
    "txtl_well = ['P7', \"P8\", \"P9\", \"P10\", \"P11\", \"P12\", \"P13\"]\n",
    "# txtl_well = \"P7\"\n",
    "if type(txtl_well) == str:\n",
    "    for label, dwell in rxn_loc.items():\n",
    "        for d in dwell:\n",
    "            print(label)\n",
    "            txtl_vol = vol_table_df[vol_table_df['Label'] == label].iloc[0,1:].sum()/0.25*0.75*1000 # add txtl to make 75%\n",
    "            row = {'Source Plate Name':'Source[1]', 'Source Plate Type': source_plate_type, 'Source Well': txtl_well,\n",
    "                                        'Destination Plate Name':'Destination[1]', 'Destination Well': d, 'Transfer Volume': txtl_vol}\n",
    "            protocol_genex_df = protocol_genex_df.append(row, ignore_index = True)\n",
    "            #protocol_genex_df = protocol_genex_df.append(row)\n",
    "elif type(txtl_well) == list:\n",
    "    print(\"here\")\n",
    "    running_txtl_vol = 60000\n",
    "    well_index = 0\n",
    "    for label, dwell in rxn_loc.items():\n",
    "        for d in dwell:\n",
    "            print(label)\n",
    "            txtl_vol = vol_table_df[vol_table_df['Label'] == label].iloc[0,1:].sum()/0.25*0.75*1000 # add txtl to make 75%\n",
    "            running_txtl_vol = running_txtl_vol - txtl_vol\n",
    "            if running_txtl_vol > 20000:\n",
    "                row = {'Source Plate Name':'Source[1]', 'Source Plate Type': source_plate_type, 'Source Well': txtl_well[well_index],\n",
    "                                            'Destination Plate Name':'Destination[1]', 'Destination Well': d, 'Transfer Volume': txtl_vol}\n",
    "                protocol_genex_df = protocol_genex_df.append(row, ignore_index = True)\n",
    "            elif running_txtl_vol < 20000:\n",
    "                well_index = well_index + 1\n",
    "                try:\n",
    "                    row = {'Source Plate Name':'Source[1]', 'Source Plate Type': source_plate_type, 'Source Well': txtl_well[well_index],\n",
    "                                                'Destination Plate Name':'Destination[1]', 'Destination Well': d, 'Transfer Volume': txtl_vol}\n",
    "                    protocol_genex_df = protocol_genex_df.append(row, ignore_index = True)\n",
    "                    running_txtl_vol  = 60000 - txtl_vol\n",
    "                except: \n",
    "                    print(\"Add more TXTL wells to your list\")\n",
    "            #protocol_genex_df = protocol_genex_df.append(row)\n",
    "\n",
    "\n",
    "protocol_genex_df.to_csv(folder+'protocol_genex.csv',index = False)\n",
    "\n",
    "if type(txtl_well) is str:\n",
    "      txtl_well = [txtl_well]\n",
    "\n",
    "print(f\"TXTL needed: {protocol_genex_df[protocol_genex_df['Source Well'].isin(txtl_well)]['Transfer Volume'].sum()/1000} ul\")\n",
    "print(f\"Wells needed: {np.ceil(protocol_genex_df[protocol_genex_df['Source Well'].isin(txtl_well)]['Transfer Volume'].sum()/1000 / 40)}\")\n",
    "# carry out gene expression reaction"
   ]
  },
  {
   "cell_type": "code",
   "execution_count": 63,
   "metadata": {},
   "outputs": [
    {
     "data": {
      "text/html": [
       "<div>\n",
       "<style scoped>\n",
       "    .dataframe tbody tr th:only-of-type {\n",
       "        vertical-align: middle;\n",
       "    }\n",
       "\n",
       "    .dataframe tbody tr th {\n",
       "        vertical-align: top;\n",
       "    }\n",
       "\n",
       "    .dataframe thead th {\n",
       "        text-align: right;\n",
       "    }\n",
       "</style>\n",
       "<table border=\"1\" class=\"dataframe\">\n",
       "  <thead>\n",
       "    <tr style=\"text-align: right;\">\n",
       "      <th></th>\n",
       "      <th>Source Plate Name</th>\n",
       "      <th>Source Plate Type</th>\n",
       "      <th>Source Well</th>\n",
       "      <th>Destination Plate Name</th>\n",
       "      <th>Destination Well</th>\n",
       "      <th>Transfer Volume</th>\n",
       "    </tr>\n",
       "  </thead>\n",
       "  <tbody>\n",
       "  </tbody>\n",
       "</table>\n",
       "</div>"
      ],
      "text/plain": [
       "Empty DataFrame\n",
       "Columns: [Source Plate Name, Source Plate Type, Source Well, Destination Plate Name, Destination Well, Transfer Volume]\n",
       "Index: []"
      ]
     },
     "execution_count": 63,
     "metadata": {},
     "output_type": "execute_result"
    }
   ],
   "source": [
    "protocol_genex_df[protocol_genex_df['Source Well'].isin(txtl_well)]"
   ]
  },
  {
   "cell_type": "code",
   "execution_count": 24,
   "metadata": {},
   "outputs": [],
   "source": [
    "# dilution. everything gets Tris, for 20x -> 57uL\n",
    "\n",
    "##### doing it by hand if not too many reactions #####\n",
    "\n",
    "# protocol_dilution_df = pd.DataFrame(columns=protocol_genex_df.columns)\n",
    "# source_plate_type = '6RES_AQ_B' \n",
    "# tris_well = 'A1'\n",
    "# tris_vol = 57*1000\n",
    "\n",
    "# for dwell in protocol_genex_df['Destination Well'].unique():\n",
    "#     row = {'Source Plate Name':'Source[1]', 'Source Plate Type': source_plate_type, 'Source Well': tris_well,\n",
    "#                                 'Destination Plate Name':'Destination[1]', 'Destination Well': dwell, 'Transfer Volume': tris_vol}\n",
    "#     protocol_dilution_df = protocol_dilution_df.append(row, ignore_index = True)\n",
    "\n",
    "# protocol_dilution_df.to_csv('protocols/221024_arpae_dilutions.csv',index = False)"
   ]
  },
  {
   "cell_type": "code",
   "execution_count": 25,
   "metadata": {},
   "outputs": [],
   "source": [
    "# from source plate with buffer, mix into 96\n",
    "\n",
    "# from source plate with genex, mix the diluted txtl"
   ]
  },
  {
   "cell_type": "code",
   "execution_count": 39,
   "metadata": {},
   "outputs": [
    {
     "ename": "NameError",
     "evalue": "Need more volume of tdcb_2.5 to complete reaction ser_0. Add another well to source plate.",
     "output_type": "error",
     "traceback": [
      "\u001b[0;31m---------------------------------------------------------------------------\u001b[0m",
      "\u001b[0;31mNameError\u001b[0m                                 Traceback (most recent call last)",
      "\u001b[0;32m<ipython-input-39-b9dcb0585d27>\u001b[0m in \u001b[0;36m<module>\u001b[0;34m\u001b[0m\n\u001b[1;32m     37\u001b[0m \u001b[0mvol_table_df\u001b[0m \u001b[0;34m=\u001b[0m \u001b[0mgenerateVolumeTable\u001b[0m\u001b[0;34m(\u001b[0m\u001b[0mmt_biosyn\u001b[0m\u001b[0;34m,\u001b[0m \u001b[0msps\u001b[0m\u001b[0;34m,\u001b[0m \u001b[0mrxn_vol\u001b[0m \u001b[0;34m=\u001b[0m \u001b[0;36m22.5\u001b[0m\u001b[0;34m,\u001b[0m \u001b[0mtotal_vol\u001b[0m \u001b[0;34m=\u001b[0m \u001b[0;36m25\u001b[0m\u001b[0;34m,\u001b[0m \u001b[0mfill_with\u001b[0m\u001b[0;34m=\u001b[0m\u001b[0;34m'HEPES'\u001b[0m\u001b[0;34m)\u001b[0m\u001b[0;34m\u001b[0m\u001b[0;34m\u001b[0m\u001b[0m\n\u001b[1;32m     38\u001b[0m \u001b[0;34m\u001b[0m\u001b[0m\n\u001b[0;32m---> 39\u001b[0;31m \u001b[0mprotocol_biosyn_dfs\u001b[0m \u001b[0;34m=\u001b[0m \u001b[0mwriteProtocol\u001b[0m\u001b[0;34m(\u001b[0m\u001b[0msp_types\u001b[0m\u001b[0;34m,\u001b[0m \u001b[0mvol_table_df\u001b[0m\u001b[0;34m,\u001b[0m \u001b[0mlayout_biosyn1\u001b[0m\u001b[0;34m,\u001b[0m\u001b[0msps\u001b[0m\u001b[0;34m,\u001b[0m \u001b[0mupdate_source_vol\u001b[0m\u001b[0;34m=\u001b[0m \u001b[0mfolder\u001b[0m \u001b[0;34m+\u001b[0m\u001b[0;34m'combined_sp_updated.xlsx'\u001b[0m\u001b[0;34m)\u001b[0m\u001b[0;34m\u001b[0m\u001b[0;34m\u001b[0m\u001b[0m\n\u001b[0m\u001b[1;32m     40\u001b[0m \u001b[0;34m\u001b[0m\u001b[0m\n\u001b[1;32m     41\u001b[0m \u001b[0;31m#protocol_biosyn_df.to_csv('protocols/221018_arpae_biosyn.csv',index = False)\u001b[0m\u001b[0;34m\u001b[0m\u001b[0;34m\u001b[0m\u001b[0;34m\u001b[0m\u001b[0m\n",
      "\u001b[0;32m~/Documents/GitHub/WHISPR/whispr.py\u001b[0m in \u001b[0;36mwriteProtocol\u001b[0;34m(plate_type, vol_table, output_layout, source_plate_df, update_source_vol)\u001b[0m\n\u001b[1;32m    332\u001b[0m                                     \u001b[0;31m# print(source_well)\u001b[0m\u001b[0;34m\u001b[0m\u001b[0;34m\u001b[0m\u001b[0;34m\u001b[0m\u001b[0m\n\u001b[1;32m    333\u001b[0m                                     \u001b[0;32mif\u001b[0m \u001b[0mlen\u001b[0m\u001b[0;34m(\u001b[0m\u001b[0msource_well\u001b[0m\u001b[0;34m)\u001b[0m \u001b[0;34m<=\u001b[0m \u001b[0;36m1\u001b[0m\u001b[0;34m:\u001b[0m\u001b[0;34m\u001b[0m\u001b[0;34m\u001b[0m\u001b[0m\n\u001b[0;32m--> 334\u001b[0;31m                                         \u001b[0;32mraise\u001b[0m \u001b[0mNameError\u001b[0m\u001b[0;34m(\u001b[0m\u001b[0;34m'Need more volume of '\u001b[0m \u001b[0;34m+\u001b[0m\u001b[0mcomponent\u001b[0m\u001b[0;34m+\u001b[0m \u001b[0;34m' to complete reaction '\u001b[0m \u001b[0;34m+\u001b[0m \u001b[0mrxn\u001b[0m \u001b[0;34m+\u001b[0m \u001b[0;34m'. Add another well to source plate.'\u001b[0m\u001b[0;34m)\u001b[0m\u001b[0;34m\u001b[0m\u001b[0;34m\u001b[0m\u001b[0m\n\u001b[0m\u001b[1;32m    335\u001b[0m \u001b[0;34m\u001b[0m\u001b[0m\n\u001b[1;32m    336\u001b[0m                                     \u001b[0mrunning_source_plate\u001b[0m\u001b[0;34m.\u001b[0m\u001b[0mloc\u001b[0m\u001b[0;34m[\u001b[0m\u001b[0mrunning_source_plate\u001b[0m\u001b[0;34m[\u001b[0m\u001b[0;34m'Label'\u001b[0m\u001b[0;34m]\u001b[0m \u001b[0;34m==\u001b[0m \u001b[0mcomponent\u001b[0m\u001b[0;34m,\u001b[0m\u001b[0;34m'Well'\u001b[0m\u001b[0;34m]\u001b[0m \u001b[0;34m=\u001b[0m \u001b[0;34m','\u001b[0m\u001b[0;34m.\u001b[0m\u001b[0mjoin\u001b[0m\u001b[0;34m(\u001b[0m\u001b[0msource_well\u001b[0m\u001b[0;34m[\u001b[0m\u001b[0;36m1\u001b[0m\u001b[0;34m:\u001b[0m\u001b[0;34m]\u001b[0m\u001b[0;34m)\u001b[0m\u001b[0;34m.\u001b[0m\u001b[0mreplace\u001b[0m\u001b[0;34m(\u001b[0m\u001b[0;34m' '\u001b[0m\u001b[0;34m,\u001b[0m\u001b[0;34m''\u001b[0m\u001b[0;34m)\u001b[0m\u001b[0;34m\u001b[0m\u001b[0;34m\u001b[0m\u001b[0m\n",
      "\u001b[0;31mNameError\u001b[0m: Need more volume of tdcb_2.5 to complete reaction ser_0. Add another well to source plate."
     ]
    }
   ],
   "source": [
    "# biosynthesis. 25ul rxns, 2.5ul of diluted txtl\n",
    "\n",
    "# buffer source plate\n",
    "sp_buffers_file = folder + 'buffers_sp.xlsx'\n",
    "sp_buffers= pd.read_excel(sp_buffers_file, index_col = 0, engine = 'openpyxl')\n",
    "sp_buffers = sp_buffers[~sp_buffers['Well'].isna()]\n",
    "\n",
    "# HEPES reservoir (actually same plate as Tris)\n",
    "sp_hepes = pd.DataFrame(columns=sp_buffers.columns)\n",
    "sp_hepes = sp_hepes.append({'Label':'HEPES', 'Well':'A2,A3', 'Concentration':'', 'Volume':'2000,2000'}, ignore_index = True)\n",
    "\n",
    "# gene expression source plate (diluted w/ Tris)\n",
    "sp_genex = sp_from_layout(layout_genex, 60)\n",
    "\n",
    "# group source plates\n",
    "sp_types = ['384PP_AQ_BP','6RES_AQ_BP2','384PP_AQ_BP'] # triple check this\n",
    "sps = [sp_buffers,sp_hepes,sp_genex]\n",
    "\n",
    "# get mixing table\n",
    "mt_biosyn_file = folder + '040323_mixing-table-biosyn.csv'\n",
    "mt_biosyn = pd.read_csv(mt_biosyn_file, index_col = 0, dtype = str).fillna(0)\n",
    "mt_biosyn = mt_biosyn[~mt_biosyn.index.isna()]\n",
    "\n",
    "# check formats\n",
    "checkInputs(sps,mt_biosyn,sp_types)\n",
    "\n",
    "# layouts for destination plate(s)\n",
    "layout_biosyn1_file = folder + '040323_plate-layout-biosyn.csv' \n",
    "layout_biosyn1 = pd.read_csv(layout_biosyn1_file, index_col = 0, dtype = str)\n",
    "layout_biosyn1 = layout_biosyn1[~layout_biosyn1.index.isna()]\n",
    "\n",
    "# filename = '221018_arpae_biosyn_neg.csv'\n",
    "# layout_biosyn2_file = 'plate_layouts/'+filename \n",
    "# layout_biosyn2 = pd.read_csv(layout_biosyn2_file, index_col = 0, dtype = str)\n",
    "# layouts = [layout_biosyn1,layout_biosyn2]\n",
    "\n",
    "vol_table_df = generateVolumeTable(mt_biosyn, sps, rxn_vol = 22.5, total_vol = 25, fill_with='HEPES')\n",
    "\n",
    "protocol_biosyn_dfs = writeProtocol(sp_types, vol_table_df, layout_biosyn1,sps, update_source_vol= folder +'combined_sp_updated.xlsx')\n",
    "\n",
    "#protocol_biosyn_df.to_csv('protocols/221018_arpae_biosyn.csv',index = False)"
   ]
  },
  {
   "cell_type": "code",
   "execution_count": 27,
   "metadata": {},
   "outputs": [],
   "source": [
    "protocol_biosyn_dfs[0].to_csv(folder+'biosyn_protocol_384.csv',index = False)\n",
    "protocol_biosyn_dfs[1].to_csv(folder+'biosyn_protocol_6RES.csv',index = False)"
   ]
  },
  {
   "cell_type": "code",
   "execution_count": null,
   "metadata": {},
   "outputs": [],
   "source": []
  }
 ],
 "metadata": {
  "kernelspec": {
   "display_name": "Python 3 (ipykernel)",
   "language": "python",
   "name": "python3"
  },
  "language_info": {
   "codemirror_mode": {
    "name": "ipython",
    "version": 3
   },
   "file_extension": ".py",
   "mimetype": "text/x-python",
   "name": "python",
   "nbconvert_exporter": "python",
   "pygments_lexer": "ipython3",
   "version": "3.9.20"
  },
  "vscode": {
   "interpreter": {
    "hash": "4f650c181a7ba5d7d04e206d035f7573ec76714a74f60d7d64744f882722c1d4"
   }
  }
 },
 "nbformat": 4,
 "nbformat_minor": 4
}
