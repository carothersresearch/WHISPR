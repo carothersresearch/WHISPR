{
 "cells": [
  {
   "cell_type": "code",
   "execution_count": 1,
   "metadata": {},
   "outputs": [],
   "source": [
    "from whispr import *"
   ]
  },
  {
   "cell_type": "code",
   "execution_count": 2,
   "metadata": {},
   "outputs": [
    {
     "name": "stdout",
     "output_type": "stream",
     "text": [
      "Volumes used from each well for this protocol:\n",
      "{'1_A1': 22.3, '1_P1': 2.85, '1_P2': 3.8, '1_P3': 5.7, '1_P5': 2.85}\n"
     ]
    }
   ],
   "source": [
    "# gene expression. 2.5ul rxns, 75% txtl\n",
    "rxn_vol = 3\n",
    "source_plate_type = '384PP_AQ_BP' \n",
    "\n",
    "sp_plasmids_file = 'source_plates/221018_arpae_plasmids.xlsx'\n",
    "sp_plasmids = pd.read_excel(sp_plasmids_file, index_col = 0)\n",
    "sp_plasmids = sp_plasmids[~sp_plasmids['Well'].isna()]\n",
    "\n",
    "filename = '221018_arpae_genex.csv'\n",
    "layout_genex_file = 'plate_layouts/'+filename \n",
    "layout_genex = pd.read_csv(layout_genex_file, index_col = 0, dtype = str)\n",
    "\n",
    "mt_genex_file = 'mixing_tables/221018_arpae_plasmids.csv'\n",
    "mt_genex = pd.read_csv(mt_genex_file, index_col = 0, dtype = str).fillna(0)\n",
    "\n",
    "checkInputs(sp_plasmids, mt_genex,source_plate_type)\n",
    "\n",
    "vol_table_df = generateVolumeTable(mt_genex, sp_plasmids, rxn_vol = 0.25*rxn_vol, total_vol = rxn_vol, fill_with='water', multiRpW = True)\n",
    "\n",
    "#specify rxn_vol (default = 2.5) and total_vol (default = 10) if you'd like to change the volume of each individual replicate or the total reaction volume\n",
    "protocol_genex_df = writeProtocol(source_plate_type, vol_table_df, layout_genex,sp_plasmids, update_source_vol='source_plates/221018_arpae_plasmids_updated.xlsx')\n"
   ]
  },
  {
   "cell_type": "code",
   "execution_count": 3,
   "metadata": {},
   "outputs": [
    {
     "ename": "TypeError",
     "evalue": "append() takes no keyword arguments",
     "output_type": "error",
     "traceback": [
      "\u001b[1;31m---------------------------------------------------------------------------\u001b[0m",
      "\u001b[1;31mTypeError\u001b[0m                                 Traceback (most recent call last)",
      "\u001b[1;32m<ipython-input-3-491910946f06>\u001b[0m in \u001b[0;36m<module>\u001b[1;34m\u001b[0m\n\u001b[0;32m     19\u001b[0m     row = {'Source Plate Name':'Source[1]', 'Source Plate Type': source_plate_type, 'Source Well': txtl_well,\n\u001b[0;32m     20\u001b[0m                                 'Destination Plate Name':'Destination[1]', 'Destination Well': dwell[0], 'Transfer Volume': txtl_vol}\n\u001b[1;32m---> 21\u001b[1;33m     \u001b[0mprotocol_genex_df\u001b[0m \u001b[1;33m=\u001b[0m \u001b[0mprotocol_genex_df\u001b[0m\u001b[1;33m.\u001b[0m\u001b[0mappend\u001b[0m\u001b[1;33m(\u001b[0m\u001b[0mrow\u001b[0m\u001b[1;33m,\u001b[0m \u001b[0mignore_index\u001b[0m \u001b[1;33m=\u001b[0m \u001b[1;32mTrue\u001b[0m\u001b[1;33m)\u001b[0m\u001b[1;33m\u001b[0m\u001b[1;33m\u001b[0m\u001b[0m\n\u001b[0m\u001b[0;32m     22\u001b[0m \u001b[1;33m\u001b[0m\u001b[0m\n\u001b[0;32m     23\u001b[0m \u001b[0mprotocol_genex_df\u001b[0m\u001b[1;33m.\u001b[0m\u001b[0mto_csv\u001b[0m\u001b[1;33m(\u001b[0m\u001b[1;34m'protocols/'\u001b[0m\u001b[1;33m+\u001b[0m\u001b[0mfilename\u001b[0m\u001b[1;33m,\u001b[0m\u001b[0mindex\u001b[0m \u001b[1;33m=\u001b[0m \u001b[1;32mFalse\u001b[0m\u001b[1;33m)\u001b[0m\u001b[1;33m\u001b[0m\u001b[1;33m\u001b[0m\u001b[0m\n",
      "\u001b[1;31mTypeError\u001b[0m: append() takes no keyword arguments"
     ]
    }
   ],
   "source": [
    "# everything gets txtl\n",
    "\n",
    "# get destination wells\n",
    "for layout_id, layout in enumerate([layout_genex]):    \n",
    "    # reads plate layout and assigns wells to each reaction (rxn_loc; dict)\n",
    "    labels = pd.unique(np.concatenate(layout.values))\n",
    "    rxn_loc = {}\n",
    "    for l in labels:\n",
    "        if type(l) is str:\n",
    "            index = layout[layout.isin([l])].stack().index\n",
    "            rxn_loc[l] = []\n",
    "            for i in index:\n",
    "                rxn_loc[l].append(str(i[0]) + str(i[1]))\n",
    "\n",
    "\n",
    "txtl_well = 'P24'\n",
    "for label, dwell in rxn_loc.items():\n",
    "    txtl_vol = vol_table_df[vol_table_df['Label'] == label].iloc[0,1:].sum()/0.25*0.75*1000 # add txtl to make 75%\n",
    "    row = {'Source Plate Name':'Source[1]', 'Source Plate Type': source_plate_type, 'Source Well': txtl_well,\n",
    "                                'Destination Plate Name':'Destination[1]', 'Destination Well': dwell[0], 'Transfer Volume': txtl_vol}\n",
    "    protocol_genex_df = protocol_genex_df.append(row, ignore_index = True)\n",
    "\n",
    "protocol_genex_df.to_csv('protocols/'+filename,index = False)\n",
    "\n",
    "# carry out gene expression reaction"
   ]
  },
  {
   "cell_type": "code",
   "execution_count": 66,
   "metadata": {},
   "outputs": [
    {
     "data": {
      "text/plain": [
       "112.49999999999999"
      ]
     },
     "execution_count": 66,
     "metadata": {},
     "output_type": "execute_result"
    }
   ],
   "source": [
    "protocol_genex_df[protocol_genex_df['Source Well'] == 'P24']['Transfer Volume'].sum()/1000"
   ]
  },
  {
   "cell_type": "code",
   "execution_count": null,
   "metadata": {},
   "outputs": [],
   "source": [
    "# dilution. everything gets Tris, for 20x -> 57uL\n",
    "protocol_dilution_df = pd.DataFrame(columns=protocol_genex_df.columns)\n",
    "source_plate_type = '6RES_AQ_B' \n",
    "tris_well = 'A1'\n",
    "tris_vol = 57*1000\n",
    "\n",
    "for dwell in protocol_genex_df['Destination Well'].unique():\n",
    "    row = {'Source Plate Name':'Source[1]', 'Source Plate Type': source_plate_type, 'Source Well': tris_well,\n",
    "                                'Destination Plate Name':'Destination[1]', 'Destination Well': dwell, 'Transfer Volume': tris_vol}\n",
    "    protocol_dilution_df = protocol_dilution_df.append(row, ignore_index = True)\n",
    "\n",
    "protocol_dilution_df.to_csv('protocols/221004_arpae_dilutions.csv',index = False)"
   ]
  },
  {
   "cell_type": "code",
   "execution_count": null,
   "metadata": {},
   "outputs": [],
   "source": [
    "# from source plate with buffer, mix into 96\n",
    "\n",
    "# from source plate with genex, mix the diluted txtl"
   ]
  },
  {
   "cell_type": "code",
   "execution_count": 3,
   "metadata": {},
   "outputs": [
    {
     "name": "stdout",
     "output_type": "stream",
     "text": [
      "Volumes used from each well for this protocol:\n",
      "{'1_A1': 28.8, '1_B1': 12.0, '1_C1': 12.0, '1_D1': 24.0, '1_E1': 40.0, '1_E2': 40.0, '1_E3': 40.0, '1_F1': 4.8, '1_G1': 19.2, '1_H1': 41.0, '1_H2': 7.0, '1_I1': 36.0, '1_J1': 24.0, '1_K1': 41.9, '1_K2': 8.0, '1_L1': 1.9, '1_M1': 6.0, '2_A2': 773.4, '3_N2': 30.0, '3_N3': 30.0, '3_O2': 30.0, '3_O3': 30.0, '3_P2': 12.5, '3_P3': 12.5}\n"
     ]
    }
   ],
   "source": [
    "# biosynthesis. 25ul rxns, 2.5ul of diluted txtl\n",
    "\n",
    "# buffer source plate\n",
    "sp_buffers_file = 'source_plates/221018_arpae_buffers.xlsx'\n",
    "sp_buffers= pd.read_excel(sp_buffers_file, index_col = 0)\n",
    "sp_buffers = sp_buffers[~sp_buffers['Well'].isna()]\n",
    "\n",
    "# HEPES reservoir (actually same plate as Tris)\n",
    "sp_hepes = pd.DataFrame(columns=sp_buffers.columns)\n",
    "sp_hepes = sp_hepes.append({'Label':'HEPES', 'Well':'A2,A3', 'Concentration':'', 'Volume':'2000,2000'}, ignore_index = True)\n",
    "\n",
    "# gene expression source plate (diluted w/ Tris)\n",
    "sp_genex = sp_from_layout(layout_genex, 60)\n",
    "\n",
    "# group source plates\n",
    "sp_types = ['384PP_AQ_BP','6RES_AQ_BP2','384PP_AQ_BP'] # triple check this\n",
    "sps = [sp_buffers,sp_hepes,sp_genex]\n",
    "\n",
    "# get mixing table\n",
    "mt_biosyn_file = 'mixing_tables/221018_arpae_buffers.csv'\n",
    "mt_biosyn = pd.read_csv(mt_biosyn_file, index_col = 0, dtype = str).fillna(0)\n",
    "\n",
    "# check formats\n",
    "checkInputs(sps,mt_biosyn,sp_types)\n",
    "\n",
    "# layouts for destination plate(s)\n",
    "filename = '221018_arpae_biosyn.csv'\n",
    "layout_biosyn1_file = 'plate_layouts/'+filename \n",
    "layout_biosyn1 = pd.read_csv(layout_biosyn1_file, index_col = 0, dtype = str)\n",
    "# filename = '221018_arpae_biosyn_neg.csv'\n",
    "# layout_biosyn2_file = 'plate_layouts/'+filename \n",
    "# layout_biosyn2 = pd.read_csv(layout_biosyn2_file, index_col = 0, dtype = str)\n",
    "# layouts = [layout_biosyn1,layout_biosyn2]\n",
    "\n",
    "vol_table_df = generateVolumeTable(mt_biosyn, sps, rxn_vol = 22.5, total_vol = 25, fill_with='HEPES')\n",
    "\n",
    "protocol_biosyn_dfs = writeProtocol(sp_types, vol_table_df, layout_biosyn1,sps, update_source_vol='source_plates/221018_arpae_combined_sp_updated.xlsx')\n",
    "\n",
    "#protocol_biosyn_df.to_csv('protocols/221018_arpae_biosyn.csv',index = False)"
   ]
  },
  {
   "cell_type": "code",
   "execution_count": 6,
   "metadata": {},
   "outputs": [],
   "source": [
    "protocol_biosyn_dfs[0].to_csv('protocols/221018_arpae_biosyn_384.csv',index = False)\n",
    "protocol_biosyn_dfs[1].to_csv('protocols/221018_arpae_biosyn_6RES.csv',index = False)"
   ]
  },
  {
   "cell_type": "code",
   "execution_count": null,
   "metadata": {},
   "outputs": [],
   "source": []
  }
 ],
 "metadata": {
  "kernelspec": {
   "display_name": "Python 3.7.6 64-bit ('txtl-sim': conda)",
   "language": "python",
   "name": "python3"
  },
  "language_info": {
   "codemirror_mode": {
    "name": "ipython",
    "version": 3
   },
   "file_extension": ".py",
   "mimetype": "text/x-python",
   "name": "python",
   "nbconvert_exporter": "python",
   "pygments_lexer": "ipython3",
   "version": "3.7.6"
  },
  "vscode": {
   "interpreter": {
    "hash": "f543d9e5f9a66fa15e5df6a673ace45eca063fa5ea1e663287fb3ebcaa0798bc"
   }
  }
 },
 "nbformat": 4,
 "nbformat_minor": 4
}
