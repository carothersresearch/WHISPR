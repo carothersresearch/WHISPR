{
 "cells": [
  {
   "cell_type": "code",
   "execution_count": 1,
   "metadata": {},
   "outputs": [],
   "source": [
    "from whispr import *"
   ]
  },
  {
   "cell_type": "code",
   "execution_count": 25,
   "metadata": {},
   "outputs": [
    {
     "name": "stdout",
     "output_type": "stream",
     "text": [
      "Volumes used from each well for this protocol:\n",
      "{'1_A1': 3.0, '1_P1': 0.3, '1_P2': 0.35, '1_P3': 1.0, '1_P5': 0.3, '1_P6': 0.3, '1_P7': 0.9, '1_P8': 0.4, '1_P9': 0.2}\n"
     ]
    }
   ],
   "source": [
    "# gene expression. 2.5ul rxns, 75% txtl\n",
    "rxn_vol = 3\n",
    "source_plate_type = '384PP_AQ_BP' \n",
    "\n",
    "sp_plasmids_file = 'source_plates/221101_arpae_plasmids.xlsx'\n",
    "sp_plasmids = pd.read_excel(sp_plasmids_file, index_col = 0)\n",
    "sp_plasmids = sp_plasmids[~sp_plasmids['Well'].isna()]\n",
    "\n",
    "filename = '221101_arpae_genex.csv'\n",
    "layout_genex_file = 'plate_layouts/'+filename \n",
    "layout_genex = pd.read_csv(layout_genex_file, index_col = 0, dtype = str)\n",
    "\n",
    "mt_genex_file = 'mixing_tables/221101_arpae_plasmids.csv'\n",
    "mt_genex = pd.read_csv(mt_genex_file, index_col = 0, dtype = str).fillna(0)\n",
    "\n",
    "checkInputs(sp_plasmids, mt_genex,source_plate_type)\n",
    "\n",
    "vol_table_df = generateVolumeTable(mt_genex, sp_plasmids, rxn_vol = 0.25*rxn_vol, total_vol = rxn_vol, fill_with='water', multiRpW = False)\n",
    "\n",
    "#specify rxn_vol (default = 2.5) and total_vol (default = 10) if you'd like to change the volume of each individual replicate or the total reaction volume\n",
    "protocol_genex_df = writeProtocol(source_plate_type, vol_table_df, layout_genex,sp_plasmids, update_source_vol='source_plates/221101_arpae_plasmids_updated.xlsx')\n"
   ]
  },
  {
   "cell_type": "code",
   "execution_count": 26,
   "metadata": {},
   "outputs": [],
   "source": [
    "protocol_genex_df = protocol_genex_df[0]"
   ]
  },
  {
   "cell_type": "code",
   "execution_count": 27,
   "metadata": {},
   "outputs": [
    {
     "data": {
      "text/plain": [
       "'no_pyc'"
      ]
     },
     "execution_count": 27,
     "metadata": {},
     "output_type": "execute_result"
    }
   ],
   "source": [
    "vol_table_df['Label'].iloc[-2]"
   ]
  },
  {
   "cell_type": "code",
   "execution_count": 28,
   "metadata": {},
   "outputs": [
    {
     "name": "stdout",
     "output_type": "stream",
     "text": [
      "pyc\n",
      "K3\n",
      "pyc\n",
      "K4\n",
      "no_pyc\n",
      "L3\n",
      "no_pyc\n",
      "L4\n",
      "Std\n",
      "M3\n",
      "P++\n",
      "M4\n",
      "P++\n",
      "O4\n",
      "N++\n",
      "N4\n",
      "N++\n",
      "P4\n",
      "TXTL needed: 20.25\n"
     ]
    }
   ],
   "source": [
    "# everything gets txtl\n",
    "\n",
    "# get destination wells\n",
    "for layout_id, layout in enumerate([layout_genex]):    \n",
    "    # reads plate layout and assigns wells to each reaction (rxn_loc; dict)\n",
    "    labels = pd.unique(np.concatenate(layout.values))\n",
    "    rxn_loc = {}\n",
    "    for l in labels:\n",
    "        if type(l) is str:\n",
    "            index = layout[layout.isin([l])].stack().index\n",
    "            rxn_loc[l] = []\n",
    "            for i in index:\n",
    "                rxn_loc[l].append(str(i[0]) + str(i[1]))\n",
    "\n",
    "\n",
    "txtl_well = 'N24'\n",
    "for label, dwell in rxn_loc.items():\n",
    "    for d in dwell:\n",
    "        txtl_vol = vol_table_df[vol_table_df['Label'] == label].iloc[0,1:].sum()/0.25*0.75*1000 # add txtl to make 75%\n",
    "        row = {'Source Plate Name':'Source[1]', 'Source Plate Type': source_plate_type, 'Source Well': txtl_well,\n",
    "                                    'Destination Plate Name':'Destination[1]', 'Destination Well': d, 'Transfer Volume': txtl_vol}\n",
    "        protocol_genex_df = protocol_genex_df.append(row, ignore_index = True)\n",
    "\n",
    "protocol_genex_df.to_csv('protocols/'+filename,index = False)\n",
    "print('TXTL needed: '+str(protocol_genex_df[protocol_genex_df['Source Well'] == txtl_well]['Transfer Volume'].sum()/1000))\n",
    "# carry out gene expression reaction"
   ]
  },
  {
   "cell_type": "code",
   "execution_count": 37,
   "metadata": {},
   "outputs": [],
   "source": [
    "# dilution. everything gets Tris, for 20x -> 57uL\n",
    "protocol_dilution_df = pd.DataFrame(columns=protocol_genex_df.columns)\n",
    "source_plate_type = '6RES_AQ_B' \n",
    "tris_well = 'A1'\n",
    "tris_vol = 57*1000\n",
    "\n",
    "for dwell in protocol_genex_df['Destination Well'].unique():\n",
    "    row = {'Source Plate Name':'Source[1]', 'Source Plate Type': source_plate_type, 'Source Well': tris_well,\n",
    "                                'Destination Plate Name':'Destination[1]', 'Destination Well': dwell, 'Transfer Volume': tris_vol}\n",
    "    protocol_dilution_df = protocol_dilution_df.append(row, ignore_index = True)\n",
    "\n",
    "protocol_dilution_df.to_csv('protocols/221024_arpae_dilutions.csv',index = False)"
   ]
  },
  {
   "cell_type": "code",
   "execution_count": null,
   "metadata": {},
   "outputs": [],
   "source": [
    "# from source plate with buffer, mix into 96\n",
    "\n",
    "# from source plate with genex, mix the diluted txtl"
   ]
  },
  {
   "cell_type": "code",
   "execution_count": 7,
   "metadata": {},
   "outputs": [],
   "source": [
    "#if using manually generated plate layout for gene expression\n",
    "filename = '221107_genex_pl.csv'\n",
    "layout_genex_file = 'plate_layouts/'+filename \n",
    "layout_genex = pd.read_csv(layout_genex_file, index_col = 0, dtype = str)"
   ]
  },
  {
   "cell_type": "code",
   "execution_count": 8,
   "metadata": {},
   "outputs": [
    {
     "name": "stdout",
     "output_type": "stream",
     "text": [
      "Volumes used from each well for this protocol:\n",
      "{'1_A1': 9.0, '1_B1': 7.5, '1_C1': 3.75, '1_D1': 7.5, '1_E1': 37.5, '1_F1': 1.5, '1_G1': 6.0, '1_H1': 15.0, '1_I1': 11.25, '1_J1': 7.5, '1_K2': 0.95, '1_L1': 0.95, '1_N1': 7.5, '1_O1': 7.5, '1_P1': 11.45, '2_A2': 265.15, '3_I3': 7.5, '3_K3': 22.5, '3_M3': 12.5, '3_M4': 7.5}\n"
     ]
    }
   ],
   "source": [
    "# biosynthesis. 25ul rxns, 2.5ul of diluted txtl\n",
    "\n",
    "# buffer source plate\n",
    "sp_buffers_file = 'source_plates/221107_buffers_sp.xlsx'\n",
    "sp_buffers= pd.read_excel(sp_buffers_file, index_col = 0)\n",
    "sp_buffers = sp_buffers[~sp_buffers['Well'].isna()]\n",
    "\n",
    "# HEPES reservoir (actually same plate as Tris)\n",
    "sp_hepes = pd.DataFrame(columns=sp_buffers.columns)\n",
    "sp_hepes = sp_hepes.append({'Label':'HEPES', 'Well':'A2,A3', 'Concentration':'', 'Volume':'2000,2000'}, ignore_index = True)\n",
    "\n",
    "# gene expression source plate (diluted w/ Tris)\n",
    "sp_genex = sp_from_layout(layout_genex, 60)\n",
    "\n",
    "# group source plates\n",
    "sp_types = ['384PP_AQ_BP','6RES_AQ_BP2','384PP_AQ_BP'] # triple check this\n",
    "sps = [sp_buffers,sp_hepes,sp_genex]\n",
    "\n",
    "# get mixing table\n",
    "mt_biosyn_file = 'mixing_tables/221107_buffers_mt.csv'\n",
    "mt_biosyn = pd.read_csv(mt_biosyn_file, index_col = 0, dtype = str).fillna(0)\n",
    "\n",
    "# check formats\n",
    "checkInputs(sps,mt_biosyn,sp_types)\n",
    "\n",
    "# layouts for destination plate(s)\n",
    "filename = '221107_biosyn_pl.csv'\n",
    "layout_biosyn1_file = 'plate_layouts/'+filename \n",
    "layout_biosyn1 = pd.read_csv(layout_biosyn1_file, index_col = 0, dtype = str)\n",
    "# filename = '221018_arpae_biosyn_neg.csv'\n",
    "# layout_biosyn2_file = 'plate_layouts/'+filename \n",
    "# layout_biosyn2 = pd.read_csv(layout_biosyn2_file, index_col = 0, dtype = str)\n",
    "# layouts = [layout_biosyn1,layout_biosyn2]\n",
    "\n",
    "vol_table_df = generateVolumeTable(mt_biosyn, sps, rxn_vol = 22.5, total_vol = 25, fill_with='HEPES')\n",
    "\n",
    "protocol_biosyn_dfs = writeProtocol(sp_types, vol_table_df, layout_biosyn1,sps, update_source_vol='source_plates/221107_arpae_combined_sp_updated.xlsx')\n",
    "\n",
    "#protocol_biosyn_df.to_csv('protocols/221018_arpae_biosyn.csv',index = False)"
   ]
  },
  {
   "cell_type": "code",
   "execution_count": 10,
   "metadata": {},
   "outputs": [],
   "source": [
    "protocol_biosyn_dfs[0].to_csv('protocols/221107_arpae_biosyn_384.csv',index = False)\n",
    "protocol_biosyn_dfs[1].to_csv('protocols/221107_arpae_biosyn_6RES.csv',index = False)"
   ]
  },
  {
   "cell_type": "code",
   "execution_count": 9,
   "metadata": {},
   "outputs": [
    {
     "data": {
      "text/plain": [
       "[    Source Plate Name Source Plate Type Source Well Destination Plate Name  \\\n",
       " 0           Source[1]       384PP_AQ_BP          A1         Destination[1]   \n",
       " 1           Source[1]       384PP_AQ_BP          B1         Destination[1]   \n",
       " 2           Source[1]       384PP_AQ_BP          C1         Destination[1]   \n",
       " 3           Source[1]       384PP_AQ_BP          D1         Destination[1]   \n",
       " 4           Source[1]       384PP_AQ_BP          E1         Destination[1]   \n",
       " ..                ...               ...         ...                    ...   \n",
       " 237         Source[1]       384PP_AQ_BP          N1         Destination[1]   \n",
       " 238         Source[1]       384PP_AQ_BP          O1         Destination[1]   \n",
       " 239         Source[1]       384PP_AQ_BP          P1         Destination[1]   \n",
       " 241         Source[3]       384PP_AQ_BP          M4         Destination[1]   \n",
       " 243         Source[3]       384PP_AQ_BP          M3         Destination[1]   \n",
       " \n",
       "     Destination Well  Transfer Volume  \n",
       " 0                 A1            600.0  \n",
       " 1                 A1            500.0  \n",
       " 2                 A1            250.0  \n",
       " 3                 A1            500.0  \n",
       " 4                 A1           2500.0  \n",
       " ..               ...              ...  \n",
       " 237               E3            500.0  \n",
       " 238               E3            500.0  \n",
       " 239               E3           1000.0  \n",
       " 241               E3           2500.0  \n",
       " 243               E4           2500.0  \n",
       " \n",
       " [224 rows x 6 columns],\n",
       "     Source Plate Name Source Plate Type Source Well Destination Plate Name  \\\n",
       " 13          Source[2]       6RES_AQ_BP2          A2         Destination[1]   \n",
       " 28          Source[2]       6RES_AQ_BP2          A2         Destination[1]   \n",
       " 43          Source[2]       6RES_AQ_BP2          A2         Destination[1]   \n",
       " 48          Source[2]       6RES_AQ_BP2          A2         Destination[1]   \n",
       " 63          Source[2]       6RES_AQ_BP2          A2         Destination[1]   \n",
       " 78          Source[2]       6RES_AQ_BP2          A2         Destination[1]   \n",
       " 93          Source[2]       6RES_AQ_BP2          A2         Destination[1]   \n",
       " 98          Source[2]       6RES_AQ_BP2          A2         Destination[1]   \n",
       " 112         Source[2]       6RES_AQ_BP2          A2         Destination[1]   \n",
       " 126         Source[2]       6RES_AQ_BP2          A2         Destination[1]   \n",
       " 140         Source[2]       6RES_AQ_BP2          A2         Destination[1]   \n",
       " 145         Source[2]       6RES_AQ_BP2          A2         Destination[1]   \n",
       " 160         Source[2]       6RES_AQ_BP2          A2         Destination[1]   \n",
       " 175         Source[2]       6RES_AQ_BP2          A2         Destination[1]   \n",
       " 190         Source[2]       6RES_AQ_BP2          A2         Destination[1]   \n",
       " 195         Source[2]       6RES_AQ_BP2          A2         Destination[1]   \n",
       " 210         Source[2]       6RES_AQ_BP2          A2         Destination[1]   \n",
       " 225         Source[2]       6RES_AQ_BP2          A2         Destination[1]   \n",
       " 240         Source[2]       6RES_AQ_BP2          A2         Destination[1]   \n",
       " 242         Source[2]       6RES_AQ_BP2          A2         Destination[1]   \n",
       " \n",
       "     Destination Well  Transfer Volume  \n",
       " 13                A1          10900.0  \n",
       " 28                A2          10900.0  \n",
       " 43                A3          10900.0  \n",
       " 48                A4          18500.0  \n",
       " 63                B1          11400.0  \n",
       " 78                B2          11400.0  \n",
       " 93                B3          11400.0  \n",
       " 98                B4          19250.0  \n",
       " 112               C1          11900.0  \n",
       " 126               C2          11900.0  \n",
       " 140               C3          11900.0  \n",
       " 145               C4          19625.0  \n",
       " 160               D1          10900.0  \n",
       " 175               D2          10900.0  \n",
       " 190               D3          10900.0  \n",
       " 195               D4          19775.0  \n",
       " 210               E1          10900.0  \n",
       " 225               E2          10900.0  \n",
       " 240               E3          10900.0  \n",
       " 242               E4          20000.0  ]"
      ]
     },
     "execution_count": 9,
     "metadata": {},
     "output_type": "execute_result"
    }
   ],
   "source": [
    "protocol_biosyn_dfs"
   ]
  },
  {
   "cell_type": "code",
   "execution_count": null,
   "metadata": {},
   "outputs": [],
   "source": []
  }
 ],
 "metadata": {
  "kernelspec": {
   "display_name": "Python 3",
   "language": "python",
   "name": "python3"
  },
  "language_info": {
   "codemirror_mode": {
    "name": "ipython",
    "version": 3
   },
   "file_extension": ".py",
   "mimetype": "text/x-python",
   "name": "python",
   "nbconvert_exporter": "python",
   "pygments_lexer": "ipython3",
   "version": "3.7.6"
  },
  "vscode": {
   "interpreter": {
    "hash": "f543d9e5f9a66fa15e5df6a673ace45eca063fa5ea1e663287fb3ebcaa0798bc"
   }
  }
 },
 "nbformat": 4,
 "nbformat_minor": 4
}
