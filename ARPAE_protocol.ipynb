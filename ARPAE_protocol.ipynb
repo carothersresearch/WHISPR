{
 "cells": [
  {
   "cell_type": "code",
   "execution_count": 1,
   "metadata": {},
   "outputs": [],
   "source": [
    "from whispr import *"
   ]
  },
  {
   "cell_type": "code",
   "execution_count": 25,
   "metadata": {},
   "outputs": [
    {
     "name": "stdout",
     "output_type": "stream",
     "text": [
      "Volumes used from each well for this protocol:\n",
      "{'1_A1': 3.0, '1_P1': 0.3, '1_P2': 0.35, '1_P3': 1.0, '1_P5': 0.3, '1_P6': 0.3, '1_P7': 0.9, '1_P8': 0.4, '1_P9': 0.2}\n"
     ]
    }
   ],
   "source": [
    "# gene expression. 2.5ul rxns, 75% txtl\n",
    "rxn_vol = 3\n",
    "source_plate_type = '384PP_AQ_BP' \n",
    "\n",
    "sp_plasmids_file = 'source_plates/221101_arpae_plasmids.xlsx'\n",
    "sp_plasmids = pd.read_excel(sp_plasmids_file, index_col = 0)\n",
    "sp_plasmids = sp_plasmids[~sp_plasmids['Well'].isna()]\n",
    "\n",
    "filename = '221101_arpae_genex.csv'\n",
    "layout_genex_file = 'plate_layouts/'+filename \n",
    "layout_genex = pd.read_csv(layout_genex_file, index_col = 0, dtype = str)\n",
    "\n",
    "mt_genex_file = 'mixing_tables/221101_arpae_plasmids.csv'\n",
    "mt_genex = pd.read_csv(mt_genex_file, index_col = 0, dtype = str).fillna(0)\n",
    "\n",
    "checkInputs(sp_plasmids, mt_genex,source_plate_type)\n",
    "\n",
    "vol_table_df = generateVolumeTable(mt_genex, sp_plasmids, rxn_vol = 0.25*rxn_vol, total_vol = rxn_vol, fill_with='water', multiRpW = False)\n",
    "\n",
    "#specify rxn_vol (default = 2.5) and total_vol (default = 10) if you'd like to change the volume of each individual replicate or the total reaction volume\n",
    "protocol_genex_df = writeProtocol(source_plate_type, vol_table_df, layout_genex,sp_plasmids, update_source_vol='source_plates/221101_arpae_plasmids_updated.xlsx')\n"
   ]
  },
  {
   "cell_type": "code",
   "execution_count": 26,
   "metadata": {},
   "outputs": [],
   "source": [
    "protocol_genex_df = protocol_genex_df[0]"
   ]
  },
  {
   "cell_type": "code",
   "execution_count": 27,
   "metadata": {},
   "outputs": [
    {
     "data": {
      "text/plain": [
       "'no_pyc'"
      ]
     },
     "execution_count": 27,
     "metadata": {},
     "output_type": "execute_result"
    }
   ],
   "source": [
    "vol_table_df['Label'].iloc[-2]"
   ]
  },
  {
   "cell_type": "code",
   "execution_count": 28,
   "metadata": {},
   "outputs": [
    {
     "name": "stdout",
     "output_type": "stream",
     "text": [
      "pyc\n",
      "K3\n",
      "pyc\n",
      "K4\n",
      "no_pyc\n",
      "L3\n",
      "no_pyc\n",
      "L4\n",
      "Std\n",
      "M3\n",
      "P++\n",
      "M4\n",
      "P++\n",
      "O4\n",
      "N++\n",
      "N4\n",
      "N++\n",
      "P4\n",
      "TXTL needed: 20.25\n"
     ]
    }
   ],
   "source": [
    "# everything gets txtl\n",
    "\n",
    "# get destination wells\n",
    "for layout_id, layout in enumerate([layout_genex]):    \n",
    "    # reads plate layout and assigns wells to each reaction (rxn_loc; dict)\n",
    "    labels = pd.unique(np.concatenate(layout.values))\n",
    "    rxn_loc = {}\n",
    "    for l in labels:\n",
    "        if type(l) is str:\n",
    "            index = layout[layout.isin([l])].stack().index\n",
    "            rxn_loc[l] = []\n",
    "            for i in index:\n",
    "                rxn_loc[l].append(str(i[0]) + str(i[1]))\n",
    "\n",
    "\n",
    "txtl_well = 'N24'\n",
    "for label, dwell in rxn_loc.items():\n",
    "    for d in dwell:\n",
    "        txtl_vol = vol_table_df[vol_table_df['Label'] == label].iloc[0,1:].sum()/0.25*0.75*1000 # add txtl to make 75%\n",
    "        row = {'Source Plate Name':'Source[1]', 'Source Plate Type': source_plate_type, 'Source Well': txtl_well,\n",
    "                                    'Destination Plate Name':'Destination[1]', 'Destination Well': d, 'Transfer Volume': txtl_vol}\n",
    "        protocol_genex_df = protocol_genex_df.append(row, ignore_index = True)\n",
    "\n",
    "protocol_genex_df.to_csv('protocols/'+filename,index = False)\n",
    "print('TXTL needed: '+str(protocol_genex_df[protocol_genex_df['Source Well'] == txtl_well]['Transfer Volume'].sum()/1000))\n",
    "# carry out gene expression reaction"
   ]
  },
  {
   "cell_type": "code",
   "execution_count": 37,
   "metadata": {},
   "outputs": [],
   "source": [
    "# dilution. everything gets Tris, for 20x -> 57uL\n",
    "protocol_dilution_df = pd.DataFrame(columns=protocol_genex_df.columns)\n",
    "source_plate_type = '6RES_AQ_B' \n",
    "tris_well = 'A1'\n",
    "tris_vol = 57*1000\n",
    "\n",
    "for dwell in protocol_genex_df['Destination Well'].unique():\n",
    "    row = {'Source Plate Name':'Source[1]', 'Source Plate Type': source_plate_type, 'Source Well': tris_well,\n",
    "                                'Destination Plate Name':'Destination[1]', 'Destination Well': dwell, 'Transfer Volume': tris_vol}\n",
    "    protocol_dilution_df = protocol_dilution_df.append(row, ignore_index = True)\n",
    "\n",
    "protocol_dilution_df.to_csv('protocols/221024_arpae_dilutions.csv',index = False)"
   ]
  },
  {
   "cell_type": "code",
   "execution_count": null,
   "metadata": {},
   "outputs": [],
   "source": [
    "# from source plate with buffer, mix into 96\n",
    "\n",
    "# from source plate with genex, mix the diluted txtl"
   ]
  },
  {
   "cell_type": "code",
   "execution_count": 42,
   "metadata": {},
   "outputs": [
    {
     "name": "stdout",
     "output_type": "stream",
     "text": [
      "Volumes used from each well for this protocol:\n",
      "{'1_A1': 13.2, '1_A2': 1.2, '1_B1': 16.5, '1_C1': 8.25, '1_D1': 17.5, '1_D2': 2.0, '1_E1': 40.0, '1_E2': 40.0, '1_E3': 17.5, '1_F1': 3.9, '1_G1': 15.6, '1_H1': 39.0, '1_I1': 5.25, '1_I2': 24.0, '1_J1': 17.5, '1_J2': 2.0, '1_K2': 17.85, '1_L1': 2.85, '1_N1': 12.0, '1_O1': 12.0, '1_P1': 26.85, '2_A2': 745.05, '3_A3': 7.5, '3_B3': 7.5, '3_C3': 7.5, '3_D3': 7.5, '3_E3': 7.5, '3_F3': 15.0, '3_G3': 15.0, '3_H3': 15.0, '3_I3': 15.0, '3_J3': 37.5}\n"
     ]
    }
   ],
   "source": [
    "# biosynthesis. 25ul rxns, 2.5ul of diluted txtl\n",
    "\n",
    "# buffer source plate\n",
    "sp_buffers_file = 'source_plates/221024_arpae_buffers.xlsx'\n",
    "sp_buffers= pd.read_excel(sp_buffers_file, index_col = 0)\n",
    "sp_buffers = sp_buffers[~sp_buffers['Well'].isna()]\n",
    "\n",
    "# HEPES reservoir (actually same plate as Tris)\n",
    "sp_hepes = pd.DataFrame(columns=sp_buffers.columns)\n",
    "sp_hepes = sp_hepes.append({'Label':'HEPES', 'Well':'A2,A3', 'Concentration':'', 'Volume':'2000,2000'}, ignore_index = True)\n",
    "\n",
    "# gene expression source plate (diluted w/ Tris)\n",
    "sp_genex = sp_from_layout(layout_genex, 60)\n",
    "\n",
    "# group source plates\n",
    "sp_types = ['384PP_AQ_BP','6RES_AQ_BP2','384PP_AQ_BP'] # triple check this\n",
    "sps = [sp_buffers,sp_hepes,sp_genex]\n",
    "\n",
    "# get mixing table\n",
    "mt_biosyn_file = 'mixing_tables/221024_arpae_buffers.csv'\n",
    "mt_biosyn = pd.read_csv(mt_biosyn_file, index_col = 0, dtype = str).fillna(0)\n",
    "\n",
    "# check formats\n",
    "checkInputs(sps,mt_biosyn,sp_types)\n",
    "\n",
    "# layouts for destination plate(s)\n",
    "filename = '221024_arpae_biosyn.csv'\n",
    "layout_biosyn1_file = 'plate_layouts/'+filename \n",
    "layout_biosyn1 = pd.read_csv(layout_biosyn1_file, index_col = 0, dtype = str)\n",
    "# filename = '221018_arpae_biosyn_neg.csv'\n",
    "# layout_biosyn2_file = 'plate_layouts/'+filename \n",
    "# layout_biosyn2 = pd.read_csv(layout_biosyn2_file, index_col = 0, dtype = str)\n",
    "# layouts = [layout_biosyn1,layout_biosyn2]\n",
    "\n",
    "vol_table_df = generateVolumeTable(mt_biosyn, sps, rxn_vol = 22.5, total_vol = 25, fill_with='HEPES')\n",
    "\n",
    "protocol_biosyn_dfs = writeProtocol(sp_types, vol_table_df, layout_biosyn1,sps, update_source_vol='source_plates/221024_arpae_combined_sp_updated.xlsx')\n",
    "\n",
    "#protocol_biosyn_df.to_csv('protocols/221018_arpae_biosyn.csv',index = False)"
   ]
  },
  {
   "cell_type": "code",
   "execution_count": 43,
   "metadata": {},
   "outputs": [],
   "source": [
    "protocol_biosyn_dfs[0].to_csv('protocols/221024_arpae_biosyn_384.csv',index = False)\n",
    "protocol_biosyn_dfs[1].to_csv('protocols/221024_arpae_biosyn_6RES.csv',index = False)"
   ]
  },
  {
   "cell_type": "code",
   "execution_count": null,
   "metadata": {},
   "outputs": [],
   "source": []
  }
 ],
 "metadata": {
  "kernelspec": {
   "display_name": "Python 3.7.6 64-bit ('txtl-sim': conda)",
   "language": "python",
   "name": "python3"
  },
  "language_info": {
   "codemirror_mode": {
    "name": "ipython",
    "version": 3
   },
   "file_extension": ".py",
   "mimetype": "text/x-python",
   "name": "python",
   "nbconvert_exporter": "python",
   "pygments_lexer": "ipython3",
   "version": "3.7.6"
  },
  "vscode": {
   "interpreter": {
    "hash": "f543d9e5f9a66fa15e5df6a673ace45eca063fa5ea1e663287fb3ebcaa0798bc"
   }
  }
 },
 "nbformat": 4,
 "nbformat_minor": 4
}
